{
 "cells": [
  {
   "cell_type": "code",
   "execution_count": 1,
   "metadata": {},
   "outputs": [
    {
     "data": {
      "text/plain": [
       "'0.11dev'"
      ]
     },
     "execution_count": 1,
     "metadata": {},
     "output_type": "execute_result"
    }
   ],
   "source": [
    "import osmnx as ox \n",
    "ox.config(use_cache=True, log_console=True)\n",
    "ox.__version__"
   ]
  },
  {
   "cell_type": "code",
   "execution_count": 2,
   "metadata": {},
   "outputs": [],
   "source": [
    "place = {'city':'San Francisco', 'state':'California', 'country':'USA'}\n",
    "G = ox.graph_from_place(place, network_type='drive', simplify=True, retain_all=False, \n",
    "                        truncate_by_edge=True, clean_periphery=True)"
   ]
  },
  {
   "cell_type": "code",
   "execution_count": 3,
   "metadata": {},
   "outputs": [
    {
     "data": {
      "text/plain": [
       "residential                    17884\n",
       "tertiary                        3540\n",
       "secondary                       2346\n",
       "primary                         1783\n",
       "unclassified                     534\n",
       "trunk                            229\n",
       "motorway_link                    140\n",
       "motorway                          96\n",
       "primary_link                      83\n",
       "secondary_link                    74\n",
       "tertiary_link                     35\n",
       "[residential, unclassified]       23\n",
       "living_street                     18\n",
       "trunk_link                        18\n",
       "[residential, tertiary]            4\n",
       "[trunk, motorway]                  4\n",
       "[primary_link, primary]            1\n",
       "Name: highway, dtype: int64"
      ]
     },
     "execution_count": 3,
     "metadata": {},
     "output_type": "execute_result"
    }
   ],
   "source": [
    "nodes, edges = ox.graph_to_gdfs(G)\n",
    "edges['highway'].value_counts()"
   ]
  },
  {
   "cell_type": "markdown",
   "metadata": {},
   "source": [
    "## filter out motorway edges"
   ]
  },
  {
   "cell_type": "code",
   "execution_count": 4,
   "metadata": {},
   "outputs": [],
   "source": [
    "e = [(u, v, k) for u, v, k, d in G.edges(keys=True, data=True) if 'motorway' in d['highway']]"
   ]
  },
  {
   "cell_type": "code",
   "execution_count": 5,
   "metadata": {},
   "outputs": [],
   "source": [
    "# remove motorway edges then retain only the largest strongly connected component\n",
    "G.remove_edges_from(e)\n",
    "G = ox.get_largest_component(G, strongly=True)"
   ]
  },
  {
   "cell_type": "code",
   "execution_count": 6,
   "metadata": {},
   "outputs": [
    {
     "data": {
      "text/plain": [
       "residential                    17643\n",
       "tertiary                        3422\n",
       "secondary                       2346\n",
       "primary                         1783\n",
       "unclassified                     489\n",
       "trunk                            226\n",
       "primary_link                      83\n",
       "secondary_link                    72\n",
       "tertiary_link                     35\n",
       "[residential, unclassified]       21\n",
       "trunk_link                        16\n",
       "living_street                     11\n",
       "[residential, tertiary]            4\n",
       "[primary_link, primary]            1\n",
       "Name: highway, dtype: int64"
      ]
     },
     "execution_count": 6,
     "metadata": {},
     "output_type": "execute_result"
    }
   ],
   "source": [
    "nodes, edges = ox.graph_to_gdfs(G)\n",
    "edges['highway'].value_counts()"
   ]
  },
  {
   "cell_type": "markdown",
   "metadata": {},
   "source": [
    "## save graphs to disk\n",
    "\n",
    "save directed graph to disk"
   ]
  },
  {
   "cell_type": "code",
   "execution_count": 7,
   "metadata": {},
   "outputs": [],
   "source": [
    "ox.save_graphml(G, filename='data/network/sf-directed-no-fwy.graphml', folder='.')"
   ]
  },
  {
   "cell_type": "code",
   "execution_count": 8,
   "metadata": {},
   "outputs": [],
   "source": [
    "nodes = ox.graph_to_gdfs(G, edges=False, node_geometry=False)\n",
    "nodes.to_csv('data/network/sf-directed-no-fwy-nodelist.csv', index=True, encoding='utf-8')"
   ]
  },
  {
   "cell_type": "markdown",
   "metadata": {},
   "source": [
    "save undirected representation of graph to disk"
   ]
  },
  {
   "cell_type": "code",
   "execution_count": 9,
   "metadata": {},
   "outputs": [],
   "source": [
    "G_undir = ox.get_undirected(G)"
   ]
  },
  {
   "cell_type": "code",
   "execution_count": 10,
   "metadata": {},
   "outputs": [],
   "source": [
    "ox.save_graphml(G_undir, filename='data/network/sf-undirected-no-fwy.graphml', folder='.')"
   ]
  },
  {
   "cell_type": "code",
   "execution_count": 11,
   "metadata": {},
   "outputs": [],
   "source": [
    "nodes = ox.graph_to_gdfs(G_undir, edges=False, node_geometry=False)\n",
    "nodes.to_csv('data/network/sf-undirected-no-fwy-nodelist.csv', index=True, encoding='utf-8')"
   ]
  },
  {
   "cell_type": "code",
   "execution_count": null,
   "metadata": {},
   "outputs": [],
   "source": []
  }
 ],
 "metadata": {
  "kernelspec": {
   "display_name": "Python (ox)",
   "language": "python",
   "name": "ox"
  },
  "language_info": {
   "codemirror_mode": {
    "name": "ipython",
    "version": 3
   },
   "file_extension": ".py",
   "mimetype": "text/x-python",
   "name": "python",
   "nbconvert_exporter": "python",
   "pygments_lexer": "ipython3",
   "version": "3.7.3"
  }
 },
 "nbformat": 4,
 "nbformat_minor": 2
}
