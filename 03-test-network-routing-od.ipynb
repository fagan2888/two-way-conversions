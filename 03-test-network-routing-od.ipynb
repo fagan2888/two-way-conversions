{
 "cells": [
  {
   "cell_type": "markdown",
   "metadata": {},
   "source": [
    "# Calculate network routes between CHTS-derived origins and destinations\n",
    "\n",
    "IGNORING FREEWAYS + USING IGRAPH (brings simulation time down from ~10 hours to ~1.5 hours)"
   ]
  },
  {
   "cell_type": "code",
   "execution_count": 1,
   "metadata": {},
   "outputs": [],
   "source": [
    "import igraph as ig\n",
    "import math\n",
    "import matplotlib.pyplot as plt\n",
    "import networkx as nx\n",
    "import numpy as np\n",
    "import osmnx as ox\n",
    "import pandas as pd\n",
    "from scipy.stats import ttest_ind\n",
    "\n",
    "np.random.seed(0)\n",
    "simulate_all_trips = True"
   ]
  },
  {
   "cell_type": "markdown",
   "metadata": {},
   "source": [
    "## Load network and ODs"
   ]
  },
  {
   "cell_type": "code",
   "execution_count": 2,
   "metadata": {},
   "outputs": [
    {
     "name": "stdout",
     "output_type": "stream",
     "text": [
      "Wall time: 3.44 s\n"
     ]
    }
   ],
   "source": [
    "%%time\n",
    "# load the networks\n",
    "G_dir = ox.load_graphml('data/network/sf-directed-no-fwy.graphml', folder='.')\n",
    "G_undir = ox.load_graphml('data/network/sf-undirected-no-fwy.graphml', folder='.')"
   ]
  },
  {
   "cell_type": "code",
   "execution_count": 3,
   "metadata": {},
   "outputs": [
    {
     "name": "stdout",
     "output_type": "stream",
     "text": [
      "True\n",
      "True\n"
     ]
    }
   ],
   "source": [
    "print(nx.is_strongly_connected(G_dir))\n",
    "print(nx.is_strongly_connected(G_undir))"
   ]
  },
  {
   "cell_type": "code",
   "execution_count": 4,
   "metadata": {},
   "outputs": [
    {
     "name": "stdout",
     "output_type": "stream",
     "text": [
      "1594\n"
     ]
    }
   ],
   "source": [
    "# load the origin-destination node pairs from CHTS\n",
    "od_dir = pd.read_csv('data/od-directed-no-fwy.csv')\n",
    "od_undir = pd.read_csv('data/od-undirected-no-fwy.csv')\n",
    "\n",
    "# confirm the origins and destinations match between the two datasets\n",
    "# (so we're simulating the same set of trips on each graph)\n",
    "assert (od_dir['orig']==od_undir['orig']).sum() == len(od_dir) == len(od_undir)\n",
    "assert (od_dir['dest']==od_undir['dest']).sum() == len(od_dir) == len(od_undir)\n",
    "print(len(od_dir))"
   ]
  },
  {
   "cell_type": "markdown",
   "metadata": {},
   "source": [
    "## How many trips to simulate"
   ]
  },
  {
   "cell_type": "code",
   "execution_count": 5,
   "metadata": {},
   "outputs": [
    {
     "data": {
      "text/plain": [
       "711"
      ]
     },
     "execution_count": 5,
     "metadata": {},
     "output_type": "execute_result"
    }
   ],
   "source": [
    "# there are 1,133,333 daily trips that being/end in SF\n",
    "if simulate_all_trips:\n",
    "    total_daily_trips = 1133333\n",
    "    multiplier = total_daily_trips / len(od_dir)\n",
    "    multiplier = math.ceil(multiplier)\n",
    "else:\n",
    "    multiplier = 1\n",
    "multiplier"
   ]
  },
  {
   "cell_type": "code",
   "execution_count": 6,
   "metadata": {},
   "outputs": [
    {
     "data": {
      "text/plain": [
       "1133334"
      ]
     },
     "execution_count": 6,
     "metadata": {},
     "output_type": "execute_result"
    }
   ],
   "source": [
    "od_dir = pd.concat([od_dir]*multiplier, ignore_index=True)\n",
    "len(od_dir)"
   ]
  },
  {
   "cell_type": "code",
   "execution_count": 7,
   "metadata": {},
   "outputs": [
    {
     "data": {
      "text/plain": [
       "1133334"
      ]
     },
     "execution_count": 7,
     "metadata": {},
     "output_type": "execute_result"
    }
   ],
   "source": [
    "od_undir = pd.concat([od_undir]*multiplier, ignore_index=True)\n",
    "len(od_dir)"
   ]
  },
  {
   "cell_type": "markdown",
   "metadata": {},
   "source": [
    "## Convert networkx graphs to igraph"
   ]
  },
  {
   "cell_type": "code",
   "execution_count": 8,
   "metadata": {},
   "outputs": [],
   "source": [
    "weight = 'length'\n",
    "\n",
    "G_dir = nx.relabel.convert_node_labels_to_integers(G_dir)\n",
    "G_dir_nodeid_to_osmid = {data['osmid']:nodeid for nodeid, data in G_dir.nodes().items()}\n",
    "\n",
    "G_undir = nx.relabel.convert_node_labels_to_integers(G_undir)\n",
    "G_undir_nodeid_to_osmid = {data['osmid']:nodeid for nodeid, data in G_undir.nodes().items()}"
   ]
  },
  {
   "cell_type": "code",
   "execution_count": 9,
   "metadata": {},
   "outputs": [
    {
     "name": "stdout",
     "output_type": "stream",
     "text": [
      "Wall time: 58 ms\n"
     ]
    }
   ],
   "source": [
    "%%time\n",
    "# convert directed networkx graph to igraph\n",
    "G_dir_ig = ig.Graph(directed=True)\n",
    "G_dir_ig.add_vertices(list(G_dir.nodes()))\n",
    "G_dir_ig.add_edges(list(G_dir.edges()))\n",
    "G_dir_ig.vs['osmid'] = list(nx.get_node_attributes(G_dir, 'osmid').values())\n",
    "G_dir_ig.es[weight] = list(nx.get_edge_attributes(G_dir, weight).values())\n",
    "\n",
    "assert len(G_dir.nodes()) == G_dir_ig.vcount()\n",
    "assert len(G_dir.edges()) == G_dir_ig.ecount()"
   ]
  },
  {
   "cell_type": "code",
   "execution_count": 10,
   "metadata": {},
   "outputs": [
    {
     "name": "stdout",
     "output_type": "stream",
     "text": [
      "Wall time: 62 ms\n"
     ]
    }
   ],
   "source": [
    "%%time\n",
    "# convert undirected networkx graph to igraph\n",
    "G_undir_ig = ig.Graph(directed=False)\n",
    "G_undir_ig.add_vertices(list(G_undir.nodes()))\n",
    "G_undir_ig.add_edges(list(G_undir.edges()))\n",
    "G_undir_ig.vs['osmid'] = list(nx.get_node_attributes(G_undir, 'osmid').values())\n",
    "G_undir_ig.es[weight] = list(nx.get_edge_attributes(G_undir, weight).values())\n",
    "\n",
    "assert len(G_undir.nodes()) == G_undir_ig.vcount()\n",
    "assert len(G_undir.edges()) == G_undir_ig.ecount()"
   ]
  },
  {
   "cell_type": "markdown",
   "metadata": {},
   "source": [
    "## Calculate routes between origins and destinations\n",
    "\n",
    "#### First, look at topological graph distance (number of edges/blocks traversed)"
   ]
  },
  {
   "cell_type": "code",
   "execution_count": 11,
   "metadata": {},
   "outputs": [],
   "source": [
    "# calculate shortest path topological distance (edges) between rows' origin and destination nodes\n",
    "def network_distance(row, G_ig, nodeid_to_osmid, weight=None):\n",
    "    try:\n",
    "        source = nodeid_to_osmid[row['orig']]\n",
    "        target = nodeid_to_osmid[row['dest']]\n",
    "        return G_ig.shortest_paths(source=source, target=target, weights=weight)[0][0]\n",
    "    except:\n",
    "        return np.nan"
   ]
  },
  {
   "cell_type": "code",
   "execution_count": 12,
   "metadata": {},
   "outputs": [
    {
     "name": "stdout",
     "output_type": "stream",
     "text": [
      "Wall time: 20min 33s\n"
     ]
    }
   ],
   "source": [
    "%%time\n",
    "# for the real-world directed graph\n",
    "od_dir['network_distance_e'] = od_dir.apply(network_distance, axis=1, G_ig=G_dir_ig, nodeid_to_osmid=G_dir_nodeid_to_osmid)"
   ]
  },
  {
   "cell_type": "code",
   "execution_count": 13,
   "metadata": {},
   "outputs": [
    {
     "name": "stdout",
     "output_type": "stream",
     "text": [
      "Wall time: 23min 25s\n"
     ]
    }
   ],
   "source": [
    "%%time\n",
    "# for the bidirectional undirected graph\n",
    "od_undir['network_distance_e'] = od_undir.apply(network_distance, axis=1, G_ig=G_undir_ig, nodeid_to_osmid=G_undir_nodeid_to_osmid)"
   ]
  },
  {
   "cell_type": "code",
   "execution_count": 14,
   "metadata": {},
   "outputs": [
    {
     "data": {
      "text/plain": [
       "count    1.133334e+06\n",
       "mean     3.897679e+01\n",
       "std      2.092597e+01\n",
       "min      0.000000e+00\n",
       "25%      2.200000e+01\n",
       "50%      3.800000e+01\n",
       "75%      5.300000e+01\n",
       "max      1.070000e+02\n",
       "Name: network_distance_e, dtype: float64"
      ]
     },
     "execution_count": 14,
     "metadata": {},
     "output_type": "execute_result"
    }
   ],
   "source": [
    "blocks_dir = od_dir['network_distance_e'].replace([np.inf, -np.inf], np.nan).dropna()\n",
    "blocks_dir.describe()"
   ]
  },
  {
   "cell_type": "code",
   "execution_count": 15,
   "metadata": {},
   "outputs": [
    {
     "data": {
      "text/plain": [
       "count    1.133334e+06\n",
       "mean     3.721706e+01\n",
       "std      1.993647e+01\n",
       "min      0.000000e+00\n",
       "25%      2.200000e+01\n",
       "50%      3.600000e+01\n",
       "75%      5.100000e+01\n",
       "max      1.040000e+02\n",
       "Name: network_distance_e, dtype: float64"
      ]
     },
     "execution_count": 15,
     "metadata": {},
     "output_type": "execute_result"
    }
   ],
   "source": [
    "blocks_undir = od_undir['network_distance_e'].replace([np.inf, -np.inf], np.nan).dropna()\n",
    "blocks_undir.describe()"
   ]
  },
  {
   "cell_type": "code",
   "execution_count": 16,
   "metadata": {},
   "outputs": [
    {
     "data": {
      "image/png": "[encoded data removed]",
      "text/plain": [
       "<Figure size 432x288 with 1 Axes>"
      ]
     },
     "metadata": {
      "needs_background": "light"
     },
     "output_type": "display_data"
    }
   ],
   "source": [
    "bw = 0.4\n",
    "lw = 1.5\n",
    "ax = (blocks_dir).plot.kde(label='Real-World Network', lw=lw, bw_method=bw)\n",
    "ax = (blocks_undir).plot.kde(ax=ax, label='Two-Way Converted', lw=lw, bw_method=bw)\n",
    "ax.set_ylim(bottom=0)\n",
    "ax.set_xlim(left=-14, right=85)\n",
    "ax.set_xlabel('Blocks Traversed in Commute')\n",
    "ax.set_ylabel('Probability Density')\n",
    "plt.legend()\n",
    "plt.show()"
   ]
  },
  {
   "cell_type": "code",
   "execution_count": 17,
   "metadata": {},
   "outputs": [
    {
     "name": "stdout",
     "output_type": "stream",
     "text": [
      "n=1133334, δ=1.76, t=64.82, p=0.0000\n"
     ]
    }
   ],
   "source": [
    "# are the average blocks-traveled per trip significantly different?\n",
    "a = blocks_dir\n",
    "b = blocks_undir\n",
    "diff = a.mean() - b.mean()\n",
    "t_statistic, p_value = ttest_ind(a=a, b=b, equal_var=False, nan_policy='omit', )\n",
    "\n",
    "# convert from two-tailed to one-tailed p-value, because one-way network could never be shorter than two-way\n",
    "p_value = p_value / 2\n",
    "print('n={:}, δ={:0.2f}, t={:0.2f}, p={:0.4f}'.format(len(a), diff, t_statistic, p_value))"
   ]
  },
  {
   "cell_type": "markdown",
   "metadata": {},
   "source": [
    "#### Second, look at metric distance (meters traveled)"
   ]
  },
  {
   "cell_type": "code",
   "execution_count": 18,
   "metadata": {},
   "outputs": [
    {
     "name": "stdout",
     "output_type": "stream",
     "text": [
      "Wall time: 27min 48s\n"
     ]
    }
   ],
   "source": [
    "%%time\n",
    "# for the real-world directed graph\n",
    "od_dir['network_distance_m'] = od_dir.apply(network_distance, axis=1, G_ig=G_dir_ig, nodeid_to_osmid=G_dir_nodeid_to_osmid, weight='length')"
   ]
  },
  {
   "cell_type": "code",
   "execution_count": 19,
   "metadata": {},
   "outputs": [
    {
     "name": "stdout",
     "output_type": "stream",
     "text": [
      "Wall time: 33min 26s\n"
     ]
    }
   ],
   "source": [
    "%%time\n",
    "# for the bidirectional undirected graph\n",
    "od_undir['network_distance_m'] = od_undir.apply(network_distance, axis=1, G_ig=G_undir_ig, nodeid_to_osmid=G_undir_nodeid_to_osmid, weight='length')"
   ]
  },
  {
   "cell_type": "code",
   "execution_count": 20,
   "metadata": {},
   "outputs": [
    {
     "data": {
      "text/plain": [
       "count    1.133334e+06\n",
       "mean     4.943137e+03\n",
       "std      2.859271e+03\n",
       "min      0.000000e+00\n",
       "25%      2.736591e+03\n",
       "50%      4.684213e+03\n",
       "75%      6.758932e+03\n",
       "max      1.358906e+04\n",
       "Name: network_distance_m, dtype: float64"
      ]
     },
     "execution_count": 20,
     "metadata": {},
     "output_type": "execute_result"
    }
   ],
   "source": [
    "meters_dir = od_dir['network_distance_m'].replace([np.inf, -np.inf], np.nan).dropna()\n",
    "meters_dir.describe()"
   ]
  },
  {
   "cell_type": "code",
   "execution_count": 21,
   "metadata": {},
   "outputs": [
    {
     "data": {
      "text/plain": [
       "count    1.133334e+06\n",
       "mean     4.871542e+03\n",
       "std      2.841013e+03\n",
       "min      0.000000e+00\n",
       "25%      2.676304e+03\n",
       "50%      4.606219e+03\n",
       "75%      6.695332e+03\n",
       "max      1.339464e+04\n",
       "Name: network_distance_m, dtype: float64"
      ]
     },
     "execution_count": 21,
     "metadata": {},
     "output_type": "execute_result"
    }
   ],
   "source": [
    "meters_undir = od_undir['network_distance_m'].replace([np.inf, -np.inf], np.nan).dropna()\n",
    "meters_undir.describe()"
   ]
  },
  {
   "cell_type": "code",
   "execution_count": 22,
   "metadata": {},
   "outputs": [
    {
     "data": {
      "image/png": "[encoded data removed]",
      "text/plain": [
       "<Figure size 432x288 with 1 Axes>"
      ]
     },
     "metadata": {
      "needs_background": "light"
     },
     "output_type": "display_data"
    }
   ],
   "source": [
    "ax = (meters_dir/1000).plot.kde(label='dir', bw_method=bw)\n",
    "ax = (meters_undir/1000).plot.kde(ax=ax, label='undir', bw_method=bw)\n",
    "ax.set_ylim(bottom=0)\n",
    "ax.set_xlim(left=-2, right=15)\n",
    "ax.set_xlabel('commute distance (km)')\n",
    "plt.legend()\n",
    "plt.show()"
   ]
  },
  {
   "cell_type": "code",
   "execution_count": 23,
   "metadata": {},
   "outputs": [
    {
     "name": "stdout",
     "output_type": "stream",
     "text": [
      "n=1133334, δ=71.59, t=18.91, p=0.0000\n"
     ]
    }
   ],
   "source": [
    "# are the average distances (m) traveled per trip significantly different?\n",
    "a = meters_dir\n",
    "b = meters_undir\n",
    "diff = a.mean() - b.mean()\n",
    "t_statistic, p_value = ttest_ind(a=a, b=b, equal_var=False, nan_policy='omit', )\n",
    "\n",
    "# convert from two-tailed to one-tailed p-value, because one-way network could never be shorter than two-way\n",
    "p_value = p_value / 2\n",
    "print('n={:}, δ={:0.2f}, t={:0.2f}, p={:0.4f}'.format(len(a), diff, t_statistic, p_value))"
   ]
  },
  {
   "cell_type": "code",
   "execution_count": 24,
   "metadata": {},
   "outputs": [
    {
     "data": {
      "text/plain": [
       "1.0146965634044165"
      ]
     },
     "execution_count": 24,
     "metadata": {},
     "output_type": "execute_result"
    }
   ],
   "source": [
    "a.mean() / b.mean()"
   ]
  },
  {
   "cell_type": "code",
   "execution_count": 25,
   "metadata": {},
   "outputs": [
    {
     "data": {
      "text/plain": [
       "count    1.133334e+06\n",
       "mean     7.159493e+01\n",
       "std      1.026974e+02\n",
       "min     -1.818989e-12\n",
       "25%      1.569000e+00\n",
       "50%      2.777800e+01\n",
       "75%      1.015620e+02\n",
       "max      1.096134e+03\n",
       "Name: network_distance_m, dtype: float64"
      ]
     },
     "execution_count": 25,
     "metadata": {},
     "output_type": "execute_result"
    }
   ],
   "source": [
    "difference = a - b\n",
    "difference.describe()"
   ]
  },
  {
   "cell_type": "code",
   "execution_count": 26,
   "metadata": {},
   "outputs": [
    {
     "data": {
      "image/png": "[encoded data removed]",
      "text/plain": [
       "<Figure size 432x288 with 1 Axes>"
      ]
     },
     "metadata": {
      "needs_background": "light"
     },
     "output_type": "display_data"
    }
   ],
   "source": [
    "ax = difference.plot.hist(bins=30, ec='w', alpha=0.8, zorder=2)\n",
    "ax.set_xlim(left=0, right=500)\n",
    "ax.set_ylim(bottom=0)\n",
    "ax.grid(True)\n",
    "ax.set_xlabel('Meters saved in trip on two-way network')\n",
    "plt.show()"
   ]
  },
  {
   "cell_type": "markdown",
   "metadata": {},
   "source": [
    "## Surplus VKT and fuel consumption "
   ]
  },
  {
   "cell_type": "code",
   "execution_count": 75,
   "metadata": {},
   "outputs": [],
   "source": [
    "# converters\n",
    "miles_to_km = 1.60934 #factor to convert miles to km\n",
    "mpg_to_kpl = 0.425144 #factor to convert fuel economy miles per gallon to km per liter\n",
    "lb_per_gal_to_kg_per_liter = 0.119826 #factor to convert emissions from pounds per gallon to kg per liter"
   ]
  },
  {
   "cell_type": "markdown",
   "metadata": {},
   "source": [
    "#### Excess VKT per day and per year\n",
    "\n",
    "What is the daily VKT in San Francisco? There are competing figures out there.\n",
    "\n",
    "**SFCTA**'s TNCs Today report appears to estimate VMT for trips that both begin and end within the city: \"Ride-hail vehicles drive approximately 570,000 vehicle miles within San Francisco on a typical weekday. This accounts for 20 percent of all local daily vehicle miles traveled\" from https://www.sfcta.org/tncstoday\n",
    "\n",
    "**CalTrans**'s 2017 Public Roads Data report appears to estimate all the VMT that occurs on the city's (county's) streets, even if the trip is just passing through SF (9,648,730 miles/day). https://dot.ca.gov/-/media/dot-media/programs/research-innovation-system-information/documents/prd2017.pdf\n",
    "\n",
    "Finally, SFCTA estimates 1,133,333 occur each day entirely within SF. \"On a typical weekday, ride-hail vehicles make more than 170,000 vehicle trips within San Francisco, approximately 12 times the number of taxi trips, representing 15 percent of all intra-San Francisco vehicle trips.\" from https://www.sfcta.org/tncstoday"
   ]
  },
  {
   "cell_type": "code",
   "execution_count": 76,
   "metadata": {},
   "outputs": [
    {
     "data": {
      "text/plain": [
       "4586619"
      ]
     },
     "execution_count": 76,
     "metadata": {},
     "output_type": "execute_result"
    }
   ],
   "source": [
    "#sf_daily_vmt = 9648730    #CalTrans estimate (all trips through SF)\n",
    "sf_daily_vmt = 570000 * 5 #SFCTA estimate (only trips entirely within SF)\n",
    "sf_daily_vkt = int(sf_daily_vmt * miles_to_km)\n",
    "sf_daily_vkt"
   ]
  },
  {
   "cell_type": "code",
   "execution_count": 77,
   "metadata": {},
   "outputs": [
    {
     "data": {
      "text/plain": [
       "66431"
      ]
     },
     "execution_count": 77,
     "metadata": {},
     "output_type": "execute_result"
    }
   ],
   "source": [
    "# estimate surplus VKT per day\n",
    "surplus_vkt_daily = int(sf_daily_vkt - (sf_daily_vkt / (a.mean() / b.mean())))\n",
    "surplus_vkt_daily"
   ]
  },
  {
   "cell_type": "code",
   "execution_count": 78,
   "metadata": {},
   "outputs": [
    {
     "data": {
      "text/plain": [
       "24247315"
      ]
     },
     "execution_count": 78,
     "metadata": {},
     "output_type": "execute_result"
    }
   ],
   "source": [
    "# estimate surplus VKT per year\n",
    "surplus_vkt_annual = int(surplus_vkt_daily * 365)\n",
    "surplus_vkt_annual"
   ]
  },
  {
   "cell_type": "markdown",
   "metadata": {},
   "source": [
    "#### Excess Fuel Consumption and GHG Emission\n",
    "\n",
    "Average US fuel economy is 24.7 miles/gallon: https://www.reuters.com/article/us-autos-emissions/u-s-vehicle-fuel-economy-rises-to-record-24-7-mpg-epa-idUSKBN1F02BX\n",
    "\n",
    "Burning 1 gallon of gasoline releases 20 lbs of CO2: https://www.fueleconomy.gov/feg/contentIncludes/co2_inc.htm"
   ]
  },
  {
   "cell_type": "code",
   "execution_count": 72,
   "metadata": {},
   "outputs": [
    {
     "data": {
      "text/plain": [
       "10.5010568"
      ]
     },
     "execution_count": 72,
     "metadata": {},
     "output_type": "execute_result"
    }
   ],
   "source": [
    "# what is the average US fuel economy in km/liter?\n",
    "fuel_econ_mpg = 24.7 #per reuters\n",
    "fuel_econ_kpl = fuel_econ_mpg * mpg_to_kpl\n",
    "fuel_econ_kpl"
   ]
  },
  {
   "cell_type": "code",
   "execution_count": 73,
   "metadata": {},
   "outputs": [
    {
     "data": {
      "text/plain": [
       "2309035"
      ]
     },
     "execution_count": 73,
     "metadata": {},
     "output_type": "execute_result"
    }
   ],
   "source": [
    "# how many surplus liters of fuel does this waste per year?\n",
    "surplus_fuel_liters = surplus_vkt_annual / fuel_econ_kpl\n",
    "int(surplus_fuel_liters)"
   ]
  },
  {
   "cell_type": "code",
   "execution_count": 74,
   "metadata": {},
   "outputs": [
    {
     "data": {
      "text/plain": [
       "2.39652"
      ]
     },
     "execution_count": 74,
     "metadata": {},
     "output_type": "execute_result"
    }
   ],
   "source": [
    "# how many kg of CO2 are released from combusting 1 liter of gasoline?\n",
    "co2_lbs_per_gal = 20 #per fueleconomy.gov\n",
    "co2_kg_per_liter = co2_lbs_per_gal * lb_per_gal_to_kg_per_liter\n",
    "co2_kg_per_liter"
   ]
  },
  {
   "cell_type": "code",
   "execution_count": 71,
   "metadata": {},
   "outputs": [
    {
     "data": {
      "text/plain": [
       "5533650"
      ]
     },
     "execution_count": 71,
     "metadata": {},
     "output_type": "execute_result"
    }
   ],
   "source": [
    "# how many excess kg of CO2 are released each year?\n",
    "int(surplus_fuel_liters * co2_kg_per_liter)"
   ]
  },
  {
   "cell_type": "markdown",
   "metadata": {},
   "source": [
    "## Save to disk"
   ]
  },
  {
   "cell_type": "code",
   "execution_count": 35,
   "metadata": {},
   "outputs": [
    {
     "data": {
      "text/html": [
       "<div>\n",
       "<style scoped>\n",
       "    .dataframe tbody tr th:only-of-type {\n",
       "        vertical-align: middle;\n",
       "    }\n",
       "\n",
       "    .dataframe tbody tr th {\n",
       "        vertical-align: top;\n",
       "    }\n",
       "\n",
       "    .dataframe thead th {\n",
       "        text-align: right;\n",
       "    }\n",
       "</style>\n",
       "<table border=\"1\" class=\"dataframe\">\n",
       "  <thead>\n",
       "    <tr style=\"text-align: right;\">\n",
       "      <th></th>\n",
       "      <th>SAMPN</th>\n",
       "      <th>PERNO</th>\n",
       "      <th>orig</th>\n",
       "      <th>dest</th>\n",
       "      <th>network_distance_e_dir</th>\n",
       "      <th>network_distance_m_dir</th>\n",
       "      <th>network_distance_e_undir</th>\n",
       "      <th>network_distance_m_undir</th>\n",
       "    </tr>\n",
       "  </thead>\n",
       "  <tbody>\n",
       "    <tr>\n",
       "      <th>0</th>\n",
       "      <td>1033944</td>\n",
       "      <td>1</td>\n",
       "      <td>65335448</td>\n",
       "      <td>65303721</td>\n",
       "      <td>82</td>\n",
       "      <td>10454.083</td>\n",
       "      <td>77</td>\n",
       "      <td>10251.384</td>\n",
       "    </tr>\n",
       "    <tr>\n",
       "      <th>1</th>\n",
       "      <td>1049908</td>\n",
       "      <td>1</td>\n",
       "      <td>65334137</td>\n",
       "      <td>1723738893</td>\n",
       "      <td>13</td>\n",
       "      <td>1584.919</td>\n",
       "      <td>12</td>\n",
       "      <td>1468.412</td>\n",
       "    </tr>\n",
       "    <tr>\n",
       "      <th>2</th>\n",
       "      <td>1051388</td>\n",
       "      <td>2</td>\n",
       "      <td>65298349</td>\n",
       "      <td>65303529</td>\n",
       "      <td>45</td>\n",
       "      <td>5345.391</td>\n",
       "      <td>42</td>\n",
       "      <td>5025.408</td>\n",
       "    </tr>\n",
       "    <tr>\n",
       "      <th>3</th>\n",
       "      <td>1051795</td>\n",
       "      <td>1</td>\n",
       "      <td>65294011</td>\n",
       "      <td>65352454</td>\n",
       "      <td>55</td>\n",
       "      <td>8891.224</td>\n",
       "      <td>53</td>\n",
       "      <td>8462.170</td>\n",
       "    </tr>\n",
       "    <tr>\n",
       "      <th>4</th>\n",
       "      <td>1069723</td>\n",
       "      <td>1</td>\n",
       "      <td>65301529</td>\n",
       "      <td>65329980</td>\n",
       "      <td>28</td>\n",
       "      <td>3881.144</td>\n",
       "      <td>28</td>\n",
       "      <td>3880.040</td>\n",
       "    </tr>\n",
       "  </tbody>\n",
       "</table>\n",
       "</div>"
      ],
      "text/plain": [
       "     SAMPN  PERNO      orig        dest  network_distance_e_dir  \\\n",
       "0  1033944      1  65335448    65303721                      82   \n",
       "1  1049908      1  65334137  1723738893                      13   \n",
       "2  1051388      2  65298349    65303529                      45   \n",
       "3  1051795      1  65294011    65352454                      55   \n",
       "4  1069723      1  65301529    65329980                      28   \n",
       "\n",
       "   network_distance_m_dir  network_distance_e_undir  network_distance_m_undir  \n",
       "0               10454.083                        77                 10251.384  \n",
       "1                1584.919                        12                  1468.412  \n",
       "2                5345.391                        42                  5025.408  \n",
       "3                8891.224                        53                  8462.170  \n",
       "4                3881.144                        28                  3880.040  "
      ]
     },
     "execution_count": 35,
     "metadata": {},
     "output_type": "execute_result"
    }
   ],
   "source": [
    "left = od_dir\n",
    "right = od_undir[['network_distance_e', 'network_distance_m']]\n",
    "df = pd.merge(left, right, left_index=True, right_index=True, suffixes=('_dir', '_undir'))\n",
    "df.head()"
   ]
  },
  {
   "cell_type": "code",
   "execution_count": 36,
   "metadata": {},
   "outputs": [],
   "source": [
    "# save to disk\n",
    "df.to_csv('data/od_distances-no-fwy-igraph.csv', index=False, encoding='utf-8')"
   ]
  },
  {
   "cell_type": "code",
   "execution_count": null,
   "metadata": {},
   "outputs": [],
   "source": []
  }
 ],
 "metadata": {
  "kernelspec": {
   "display_name": "Python (ox)",
   "language": "python",
   "name": "ox"
  },
  "language_info": {
   "codemirror_mode": {
    "name": "ipython",
    "version": 3
   },
   "file_extension": ".py",
   "mimetype": "text/x-python",
   "name": "python",
   "nbconvert_exporter": "python",
   "pygments_lexer": "ipython3",
   "version": "3.7.3"
  }
 },
 "nbformat": 4,
 "nbformat_minor": 2
}
