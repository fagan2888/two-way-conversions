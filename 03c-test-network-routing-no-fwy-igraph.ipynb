{
 "cells": [
  {
   "cell_type": "markdown",
   "metadata": {},
   "source": [
    "# Calculate network routes between origins and destinations\n",
    "\n",
    "IGNORING FREEWAYS + USING IGRAPH (brings simulation time down from ~10 hours to ~1.5 hours)"
   ]
  },
  {
   "cell_type": "code",
   "execution_count": 1,
   "metadata": {},
   "outputs": [],
   "source": [
    "import igraph as ig\n",
    "import math\n",
    "import matplotlib.pyplot as plt\n",
    "import networkx as nx\n",
    "import numpy as np\n",
    "import osmnx as ox\n",
    "import pandas as pd\n",
    "from scipy.stats import ttest_ind\n",
    "\n",
    "simulate_all_trips = True"
   ]
  },
  {
   "cell_type": "markdown",
   "metadata": {},
   "source": [
    "## Load network and ODs"
   ]
  },
  {
   "cell_type": "code",
   "execution_count": 2,
   "metadata": {},
   "outputs": [
    {
     "name": "stdout",
     "output_type": "stream",
     "text": [
      "1594\n",
      "1594\n"
     ]
    }
   ],
   "source": [
    "# load the origin-destination node pairs\n",
    "od_dir = pd.read_csv('data/od-directed-no-fwy.csv')\n",
    "od_undir = pd.read_csv('data/od-undirected-no-fwy.csv')\n",
    "print(len(od_dir))\n",
    "print(len(od_undir))"
   ]
  },
  {
   "cell_type": "code",
   "execution_count": 3,
   "metadata": {},
   "outputs": [
    {
     "name": "stdout",
     "output_type": "stream",
     "text": [
      "Wall time: 3.21 s\n"
     ]
    }
   ],
   "source": [
    "%%time\n",
    "# load the networks\n",
    "G_dir = ox.load_graphml('sf-directed-no-fwy.graphml', folder='data')\n",
    "G_undir = ox.load_graphml('sf-undirected-no-fwy.graphml', folder='data')"
   ]
  },
  {
   "cell_type": "code",
   "execution_count": 4,
   "metadata": {},
   "outputs": [
    {
     "name": "stdout",
     "output_type": "stream",
     "text": [
      "False\n",
      "False\n"
     ]
    }
   ],
   "source": [
    "print(nx.is_strongly_connected(G_dir))\n",
    "print(nx.is_strongly_connected(G_undir))"
   ]
  },
  {
   "cell_type": "markdown",
   "metadata": {},
   "source": [
    "## How many trips to simulate"
   ]
  },
  {
   "cell_type": "code",
   "execution_count": 5,
   "metadata": {},
   "outputs": [
    {
     "data": {
      "text/plain": [
       "711"
      ]
     },
     "execution_count": 5,
     "metadata": {},
     "output_type": "execute_result"
    }
   ],
   "source": [
    "# there are 1,133,333 daily trips that being/end in SF\n",
    "if simulate_all_trips:\n",
    "    total_daily_trips = 1133333\n",
    "    multiplier = total_daily_trips / len(od_dir)\n",
    "    multiplier = math.ceil(multiplier)\n",
    "else:\n",
    "    multiplier = 1\n",
    "multiplier"
   ]
  },
  {
   "cell_type": "code",
   "execution_count": 6,
   "metadata": {},
   "outputs": [
    {
     "data": {
      "text/plain": [
       "1133334"
      ]
     },
     "execution_count": 6,
     "metadata": {},
     "output_type": "execute_result"
    }
   ],
   "source": [
    "od_dir = pd.concat([od_dir]*multiplier, ignore_index=True)\n",
    "len(od_dir)"
   ]
  },
  {
   "cell_type": "code",
   "execution_count": 7,
   "metadata": {},
   "outputs": [
    {
     "data": {
      "text/plain": [
       "1133334"
      ]
     },
     "execution_count": 7,
     "metadata": {},
     "output_type": "execute_result"
    }
   ],
   "source": [
    "od_undir = pd.concat([od_undir]*multiplier, ignore_index=True)\n",
    "len(od_dir)"
   ]
  },
  {
   "cell_type": "markdown",
   "metadata": {},
   "source": [
    "## Convert networkx graphs to igraph"
   ]
  },
  {
   "cell_type": "code",
   "execution_count": 8,
   "metadata": {},
   "outputs": [],
   "source": [
    "weight = 'length'\n",
    "\n",
    "G_dir = nx.relabel.convert_node_labels_to_integers(G_dir)\n",
    "G_dir_nodeid_to_osmid = {data['osmid']:nodeid for nodeid, data in G_dir.nodes().items()}\n",
    "\n",
    "G_undir = nx.relabel.convert_node_labels_to_integers(G_undir)\n",
    "G_undir_nodeid_to_osmid = {data['osmid']:nodeid for nodeid, data in G_undir.nodes().items()}"
   ]
  },
  {
   "cell_type": "code",
   "execution_count": 9,
   "metadata": {},
   "outputs": [
    {
     "name": "stdout",
     "output_type": "stream",
     "text": [
      "Wall time: 53 ms\n"
     ]
    }
   ],
   "source": [
    "%%time\n",
    "# convert directed networkx graph to igraph\n",
    "G_dir_ig = ig.Graph(directed=True)\n",
    "G_dir_ig.add_vertices(list(G_dir.nodes()))\n",
    "G_dir_ig.add_edges(list(G_dir.edges()))\n",
    "G_dir_ig.vs['osmid'] = list(nx.get_node_attributes(G_dir, 'osmid').values())\n",
    "G_dir_ig.es[weight] = list(nx.get_edge_attributes(G_dir, weight).values())\n",
    "\n",
    "assert len(G_dir.nodes()) == G_dir_ig.vcount()\n",
    "assert len(G_dir.edges()) == G_dir_ig.ecount()"
   ]
  },
  {
   "cell_type": "code",
   "execution_count": 10,
   "metadata": {},
   "outputs": [
    {
     "name": "stdout",
     "output_type": "stream",
     "text": [
      "Wall time: 61 ms\n"
     ]
    }
   ],
   "source": [
    "%%time\n",
    "# convert undirected networkx graph to igraph\n",
    "G_undir_ig = ig.Graph(directed=False)\n",
    "G_undir_ig.add_vertices(list(G_undir.nodes()))\n",
    "G_undir_ig.add_edges(list(G_undir.edges()))\n",
    "G_undir_ig.vs['osmid'] = list(nx.get_node_attributes(G_undir, 'osmid').values())\n",
    "G_undir_ig.es[weight] = list(nx.get_edge_attributes(G_undir, weight).values())\n",
    "\n",
    "assert len(G_undir.nodes()) == G_undir_ig.vcount()\n",
    "assert len(G_undir.edges()) == G_undir_ig.ecount()"
   ]
  },
  {
   "cell_type": "markdown",
   "metadata": {},
   "source": [
    "## Calculate routes between origins and destinations\n",
    "\n",
    "#### First, look at topological graph distance (number of edges traversed)"
   ]
  },
  {
   "cell_type": "code",
   "execution_count": 11,
   "metadata": {},
   "outputs": [],
   "source": [
    "# calculate shortest path topological distance (edges) between rows' origin and destination nodes\n",
    "def network_distance(row, G_ig, nodeid_to_osmid, weight=None):\n",
    "    try:\n",
    "        source = nodeid_to_osmid[row['orig']]\n",
    "        target = nodeid_to_osmid[row['dest']]\n",
    "        return G_ig.shortest_paths(source=source, target=target, weights=weight)[0][0]\n",
    "    except:\n",
    "        return np.nan"
   ]
  },
  {
   "cell_type": "code",
   "execution_count": 12,
   "metadata": {},
   "outputs": [
    {
     "name": "stdout",
     "output_type": "stream",
     "text": [
      "Wall time: 20min 47s\n"
     ]
    }
   ],
   "source": [
    "%%time\n",
    "# for the real-world directed graph\n",
    "od_dir['network_distance_e'] = od_dir.apply(network_distance, axis=1, G_ig=G_dir_ig, nodeid_to_osmid=G_dir_nodeid_to_osmid)"
   ]
  },
  {
   "cell_type": "code",
   "execution_count": 13,
   "metadata": {},
   "outputs": [
    {
     "name": "stdout",
     "output_type": "stream",
     "text": [
      "Wall time: 23min 30s\n"
     ]
    }
   ],
   "source": [
    "%%time\n",
    "# for the bidirectional undirected graph\n",
    "od_undir['network_distance_e'] = od_undir.apply(network_distance, axis=1, G_ig=G_undir_ig, nodeid_to_osmid=G_undir_nodeid_to_osmid)"
   ]
  },
  {
   "cell_type": "code",
   "execution_count": 14,
   "metadata": {},
   "outputs": [
    {
     "data": {
      "text/plain": [
       "count    1133334.0\n",
       "mean           inf\n",
       "std            NaN\n",
       "min            0.0\n",
       "25%           22.0\n",
       "50%           37.0\n",
       "75%           52.0\n",
       "max            inf\n",
       "Name: network_distance_e, dtype: float64"
      ]
     },
     "execution_count": 14,
     "metadata": {},
     "output_type": "execute_result"
    }
   ],
   "source": [
    "od_dir['network_distance_e'].describe()"
   ]
  },
  {
   "cell_type": "code",
   "execution_count": 15,
   "metadata": {},
   "outputs": [
    {
     "data": {
      "text/plain": [
       "count    1133334.0\n",
       "mean           inf\n",
       "std            NaN\n",
       "min            0.0\n",
       "25%           22.0\n",
       "50%           36.0\n",
       "75%           51.0\n",
       "max            inf\n",
       "Name: network_distance_e, dtype: float64"
      ]
     },
     "execution_count": 15,
     "metadata": {},
     "output_type": "execute_result"
    }
   ],
   "source": [
    "od_undir['network_distance_e'].describe()"
   ]
  },
  {
   "cell_type": "code",
   "execution_count": 16,
   "metadata": {},
   "outputs": [],
   "source": [
    "blocks_dir = od_dir['network_distance_e'].replace([np.inf, -np.inf], np.nan).dropna()\n",
    "blocks_undir = od_undir['network_distance_e'].replace([np.inf, -np.inf], np.nan).dropna()"
   ]
  },
  {
   "cell_type": "code",
   "execution_count": 17,
   "metadata": {},
   "outputs": [
    {
     "data": {
      "image/png": "[encoded data removed]",
      "text/plain": [
       "<Figure size 432x288 with 1 Axes>"
      ]
     },
     "metadata": {
      "needs_background": "light"
     },
     "output_type": "display_data"
    }
   ],
   "source": [
    "bw = 0.4\n",
    "lw = 1.5\n",
    "ax = (blocks_dir).plot.kde(label='Real-World Network', lw=lw, bw_method=bw)\n",
    "ax = (blocks_undir).plot.kde(ax=ax, label='Two-Way Converted', lw=lw, bw_method=bw)\n",
    "ax.set_ylim(bottom=0)\n",
    "ax.set_xlim(left=-14, right=85)\n",
    "ax.set_xlabel('Blocks Traversed in Commute')\n",
    "ax.set_ylabel('Probability Density')\n",
    "plt.legend()\n",
    "plt.show()"
   ]
  },
  {
   "cell_type": "code",
   "execution_count": 18,
   "metadata": {},
   "outputs": [
    {
     "name": "stdout",
     "output_type": "stream",
     "text": [
      "n=1119825, δ=1.65, t=60.97, p=0.0000\n"
     ]
    }
   ],
   "source": [
    "# are the average blocks-traveled per trip significantly different?\n",
    "a = blocks_dir\n",
    "b = blocks_undir\n",
    "diff = a.mean() - b.mean()\n",
    "t_statistic, p_value = ttest_ind(a=a, b=b, equal_var=False, nan_policy='omit', )\n",
    "\n",
    "# convert from two-tailed to one-tailed p-value, because one-way network could never be shorter than two-way\n",
    "p_value = p_value / 2\n",
    "print('n={:}, δ={:0.2f}, t={:0.2f}, p={:0.4f}'.format(len(a), diff, t_statistic, p_value))"
   ]
  },
  {
   "cell_type": "markdown",
   "metadata": {},
   "source": [
    "#### Second, look at metric distance (meters traveled)"
   ]
  },
  {
   "cell_type": "code",
   "execution_count": 19,
   "metadata": {},
   "outputs": [
    {
     "name": "stdout",
     "output_type": "stream",
     "text": [
      "Wall time: 27min 21s\n"
     ]
    }
   ],
   "source": [
    "%%time\n",
    "# for the real-world directed graph\n",
    "od_dir['network_distance_m'] = od_dir.apply(network_distance, axis=1, G_ig=G_dir_ig, nodeid_to_osmid=G_dir_nodeid_to_osmid, weight='length')"
   ]
  },
  {
   "cell_type": "code",
   "execution_count": 20,
   "metadata": {},
   "outputs": [
    {
     "name": "stdout",
     "output_type": "stream",
     "text": [
      "Wall time: 31min 56s\n"
     ]
    }
   ],
   "source": [
    "%%time\n",
    "# for the bidirectional undirected graph\n",
    "od_undir['network_distance_m'] = od_undir.apply(network_distance, axis=1, G_ig=G_undir_ig, nodeid_to_osmid=G_undir_nodeid_to_osmid, weight='length')"
   ]
  },
  {
   "cell_type": "code",
   "execution_count": 21,
   "metadata": {},
   "outputs": [
    {
     "data": {
      "text/plain": [
       "count    1133334.000\n",
       "mean             inf\n",
       "std              NaN\n",
       "min            0.000\n",
       "25%         2763.252\n",
       "50%         4724.975\n",
       "75%         6862.442\n",
       "max              inf\n",
       "Name: network_distance_m, dtype: float64"
      ]
     },
     "execution_count": 21,
     "metadata": {},
     "output_type": "execute_result"
    }
   ],
   "source": [
    "od_dir['network_distance_m'].describe()"
   ]
  },
  {
   "cell_type": "code",
   "execution_count": 22,
   "metadata": {},
   "outputs": [
    {
     "data": {
      "text/plain": [
       "count    1133334.000\n",
       "mean             inf\n",
       "std              NaN\n",
       "min            0.000\n",
       "25%         2699.102\n",
       "50%         4642.450\n",
       "75%         6726.291\n",
       "max              inf\n",
       "Name: network_distance_m, dtype: float64"
      ]
     },
     "execution_count": 22,
     "metadata": {},
     "output_type": "execute_result"
    }
   ],
   "source": [
    "od_undir['network_distance_m'].describe()"
   ]
  },
  {
   "cell_type": "code",
   "execution_count": 23,
   "metadata": {},
   "outputs": [],
   "source": [
    "meters_dir = od_dir['network_distance_m'].replace([np.inf, -np.inf], np.nan).dropna()\n",
    "meters_undir = od_undir['network_distance_m'].replace([np.inf, -np.inf], np.nan).dropna()"
   ]
  },
  {
   "cell_type": "code",
   "execution_count": 24,
   "metadata": {},
   "outputs": [
    {
     "data": {
      "image/png": "[encoded data removed]",
      "text/plain": [
       "<Figure size 432x288 with 1 Axes>"
      ]
     },
     "metadata": {
      "needs_background": "light"
     },
     "output_type": "display_data"
    }
   ],
   "source": [
    "ax = (meters_dir/1000).plot.kde(label='dir', bw_method=bw)\n",
    "ax = (meters_undir/1000).plot.kde(ax=ax, label='undir', bw_method=bw)\n",
    "ax.set_ylim(bottom=0)\n",
    "ax.set_xlim(left=-2, right=15)\n",
    "ax.set_xlabel('commute distance (km)')\n",
    "plt.legend()\n",
    "plt.show()"
   ]
  },
  {
   "cell_type": "markdown",
   "metadata": {},
   "source": [
    "## Stats"
   ]
  },
  {
   "cell_type": "code",
   "execution_count": 25,
   "metadata": {},
   "outputs": [
    {
     "data": {
      "text/html": [
       "<div>\n",
       "<style scoped>\n",
       "    .dataframe tbody tr th:only-of-type {\n",
       "        vertical-align: middle;\n",
       "    }\n",
       "\n",
       "    .dataframe tbody tr th {\n",
       "        vertical-align: top;\n",
       "    }\n",
       "\n",
       "    .dataframe thead th {\n",
       "        text-align: right;\n",
       "    }\n",
       "</style>\n",
       "<table border=\"1\" class=\"dataframe\">\n",
       "  <thead>\n",
       "    <tr style=\"text-align: right;\">\n",
       "      <th></th>\n",
       "      <th>SAMPN</th>\n",
       "      <th>PERNO</th>\n",
       "      <th>orig</th>\n",
       "      <th>dest</th>\n",
       "      <th>network_distance_e_dir</th>\n",
       "      <th>network_distance_m_dir</th>\n",
       "      <th>network_distance_e_undir</th>\n",
       "      <th>network_distance_m_undir</th>\n",
       "    </tr>\n",
       "  </thead>\n",
       "  <tbody>\n",
       "    <tr>\n",
       "      <th>0</th>\n",
       "      <td>1033944</td>\n",
       "      <td>1</td>\n",
       "      <td>65335448</td>\n",
       "      <td>65303721</td>\n",
       "      <td>80.0</td>\n",
       "      <td>10456.018</td>\n",
       "      <td>75.0</td>\n",
       "      <td>10252.679</td>\n",
       "    </tr>\n",
       "    <tr>\n",
       "      <th>1</th>\n",
       "      <td>1049908</td>\n",
       "      <td>1</td>\n",
       "      <td>65334137</td>\n",
       "      <td>1723738893</td>\n",
       "      <td>12.0</td>\n",
       "      <td>1586.707</td>\n",
       "      <td>12.0</td>\n",
       "      <td>1465.948</td>\n",
       "    </tr>\n",
       "    <tr>\n",
       "      <th>2</th>\n",
       "      <td>1051388</td>\n",
       "      <td>2</td>\n",
       "      <td>65298349</td>\n",
       "      <td>65303529</td>\n",
       "      <td>45.0</td>\n",
       "      <td>5382.936</td>\n",
       "      <td>42.0</td>\n",
       "      <td>5022.611</td>\n",
       "    </tr>\n",
       "    <tr>\n",
       "      <th>3</th>\n",
       "      <td>1051795</td>\n",
       "      <td>1</td>\n",
       "      <td>65294011</td>\n",
       "      <td>65352454</td>\n",
       "      <td>55.0</td>\n",
       "      <td>8897.233</td>\n",
       "      <td>53.0</td>\n",
       "      <td>8467.548</td>\n",
       "    </tr>\n",
       "    <tr>\n",
       "      <th>4</th>\n",
       "      <td>1069723</td>\n",
       "      <td>1</td>\n",
       "      <td>65301529</td>\n",
       "      <td>65329980</td>\n",
       "      <td>28.0</td>\n",
       "      <td>3880.537</td>\n",
       "      <td>28.0</td>\n",
       "      <td>3879.431</td>\n",
       "    </tr>\n",
       "  </tbody>\n",
       "</table>\n",
       "</div>"
      ],
      "text/plain": [
       "     SAMPN  PERNO      orig        dest  network_distance_e_dir  \\\n",
       "0  1033944      1  65335448    65303721                    80.0   \n",
       "1  1049908      1  65334137  1723738893                    12.0   \n",
       "2  1051388      2  65298349    65303529                    45.0   \n",
       "3  1051795      1  65294011    65352454                    55.0   \n",
       "4  1069723      1  65301529    65329980                    28.0   \n",
       "\n",
       "   network_distance_m_dir  network_distance_e_undir  network_distance_m_undir  \n",
       "0               10456.018                      75.0                 10252.679  \n",
       "1                1586.707                      12.0                  1465.948  \n",
       "2                5382.936                      42.0                  5022.611  \n",
       "3                8897.233                      53.0                  8467.548  \n",
       "4                3880.537                      28.0                  3879.431  "
      ]
     },
     "execution_count": 25,
     "metadata": {},
     "output_type": "execute_result"
    }
   ],
   "source": [
    "left = od_dir\n",
    "right = od_undir[['network_distance_e', 'network_distance_m']]\n",
    "df = pd.merge(left, right, left_index=True, right_index=True, suffixes=('_dir', '_undir'))\n",
    "df.head()"
   ]
  },
  {
   "cell_type": "code",
   "execution_count": 26,
   "metadata": {},
   "outputs": [],
   "source": [
    "meters_dir = df['network_distance_m_dir'].replace([np.inf, -np.inf], np.nan).dropna()\n",
    "meters_undir = df['network_distance_m_undir'].replace([np.inf, -np.inf], np.nan).dropna()"
   ]
  },
  {
   "cell_type": "code",
   "execution_count": 27,
   "metadata": {},
   "outputs": [
    {
     "name": "stdout",
     "output_type": "stream",
     "text": [
      "n=1119825, δ=66.53, t=17.45, p=0.0000\n"
     ]
    }
   ],
   "source": [
    "# are the average distances (m) traveled per trip significantly different?\n",
    "a = meters_dir\n",
    "b = meters_undir\n",
    "diff = a.mean() - b.mean()\n",
    "t_statistic, p_value = ttest_ind(a=a, b=b, equal_var=False, nan_policy='omit', )\n",
    "\n",
    "# convert from two-tailed to one-tailed p-value, because one-way network could never be shorter than two-way\n",
    "p_value = p_value / 2\n",
    "print('n={:}, δ={:0.2f}, t={:0.2f}, p={:0.4f}'.format(len(a), diff, t_statistic, p_value))"
   ]
  },
  {
   "cell_type": "code",
   "execution_count": 28,
   "metadata": {},
   "outputs": [
    {
     "data": {
      "text/plain": [
       "1.0136589625000592"
      ]
     },
     "execution_count": 28,
     "metadata": {},
     "output_type": "execute_result"
    }
   ],
   "source": [
    "a.mean() / b.mean()"
   ]
  },
  {
   "cell_type": "code",
   "execution_count": 29,
   "metadata": {},
   "outputs": [
    {
     "data": {
      "image/png": "[encoded data removed]",
      "text/plain": [
       "<Figure size 432x288 with 1 Axes>"
      ]
     },
     "metadata": {
      "needs_background": "light"
     },
     "output_type": "display_data"
    }
   ],
   "source": [
    "ax = (a - b).plot.kde(bw_method=bw)\n",
    "ax.set_xlim(left=-150, right=700)\n",
    "ax.set_ylim(bottom=0)\n",
    "plt.show()"
   ]
  },
  {
   "cell_type": "markdown",
   "metadata": {},
   "source": [
    "## Surplus VKT and fuel consumption\n",
    "\n",
    "#### method 1"
   ]
  },
  {
   "cell_type": "code",
   "execution_count": 30,
   "metadata": {},
   "outputs": [],
   "source": [
    "# daily km traveled in SF (trips entirely within SF only) https://www.sfcta.org/tncstoday\n",
    "daily_km = 4586630"
   ]
  },
  {
   "cell_type": "code",
   "execution_count": 31,
   "metadata": {},
   "outputs": [
    {
     "data": {
      "text/plain": [
       "61804.42287722882"
      ]
     },
     "execution_count": 31,
     "metadata": {},
     "output_type": "execute_result"
    }
   ],
   "source": [
    "# estimate surplus VKT per day\n",
    "surplus_vkt_daily = daily_km - (daily_km / (a.mean() / b.mean()))\n",
    "surplus_vkt_daily"
   ]
  },
  {
   "cell_type": "code",
   "execution_count": 32,
   "metadata": {},
   "outputs": [
    {
     "data": {
      "text/plain": [
       "22558614.35018852"
      ]
     },
     "execution_count": 32,
     "metadata": {},
     "output_type": "execute_result"
    }
   ],
   "source": [
    "# estimate surplus VKT per year\n",
    "surplus_vkt_daily * 365"
   ]
  },
  {
   "cell_type": "markdown",
   "metadata": {},
   "source": [
    "#### method 2"
   ]
  },
  {
   "cell_type": "code",
   "execution_count": 33,
   "metadata": {},
   "outputs": [],
   "source": [
    "total_daily_trips = 1133333 #how many trips begin and end in sf each day https://www.sfcta.org/tncstoday"
   ]
  },
  {
   "cell_type": "code",
   "execution_count": 34,
   "metadata": {},
   "outputs": [
    {
     "data": {
      "text/plain": [
       "75397.2576336832"
      ]
     },
     "execution_count": 34,
     "metadata": {},
     "output_type": "execute_result"
    }
   ],
   "source": [
    "# estimate surplus VKT per day\n",
    "surplus_vkt_daily = total_daily_trips * (a.mean() - b.mean()) / 1000\n",
    "surplus_vkt_daily"
   ]
  },
  {
   "cell_type": "code",
   "execution_count": 35,
   "metadata": {},
   "outputs": [
    {
     "data": {
      "text/plain": [
       "27519999.036294367"
      ]
     },
     "execution_count": 35,
     "metadata": {},
     "output_type": "execute_result"
    }
   ],
   "source": [
    "# estimate surplus VKT per year\n",
    "surplus_vkt_daily * 365"
   ]
  },
  {
   "cell_type": "markdown",
   "metadata": {},
   "source": [
    "#### fuel consumption"
   ]
  },
  {
   "cell_type": "code",
   "execution_count": 36,
   "metadata": {},
   "outputs": [
    {
     "data": {
      "text/plain": [
       "692327.0197809903"
      ]
     },
     "execution_count": 36,
     "metadata": {},
     "output_type": "execute_result"
    }
   ],
   "source": [
    "# how many surplus gallons of fuel does this waste per year?\n",
    "fuel_econ = 39.75 # 23 mpg to km-p-g https://www.reuters.com/article/us-autos-emissions/u-s-vehicle-fuel-economy-rises-to-record-24-7-mpg-epa-idUSKBN1F02BX\n",
    "surplus_fuel_gallons = (surplus_vkt_daily * 365) / fuel_econ\n",
    "surplus_fuel_gallons"
   ]
  },
  {
   "cell_type": "code",
   "execution_count": 37,
   "metadata": {},
   "outputs": [
    {
     "data": {
      "text/plain": [
       "13846540.395619806"
      ]
     },
     "execution_count": 37,
     "metadata": {},
     "output_type": "execute_result"
    }
   ],
   "source": [
    "# burning a gallon of gas releases 20 lbs of CO2 https://www.fueleconomy.gov/feg/contentIncludes/co2_inc.htm\n",
    "surplus_fuel_gallons * 20"
   ]
  },
  {
   "cell_type": "markdown",
   "metadata": {},
   "source": [
    "## Save to disk"
   ]
  },
  {
   "cell_type": "code",
   "execution_count": 38,
   "metadata": {},
   "outputs": [],
   "source": [
    "# save to disk\n",
    "df.to_csv('data/od_distances-no-fwy-igraph.csv', index=False, encoding='utf-8')"
   ]
  },
  {
   "cell_type": "code",
   "execution_count": null,
   "metadata": {},
   "outputs": [],
   "source": []
  }
 ],
 "metadata": {
  "kernelspec": {
   "display_name": "Python 3",
   "language": "python",
   "name": "python3"
  },
  "language_info": {
   "codemirror_mode": {
    "name": "ipython",
    "version": 3
   },
   "file_extension": ".py",
   "mimetype": "text/x-python",
   "name": "python",
   "nbconvert_exporter": "python",
   "pygments_lexer": "ipython3",
   "version": "3.7.1"
  }
 },
 "nbformat": 4,
 "nbformat_minor": 2
}
