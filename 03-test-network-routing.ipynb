{
 "cells": [
  {
   "cell_type": "markdown",
   "metadata": {},
   "source": [
    "# Calculate network routes between origins and destinations\n",
    "\n",
    "INCLUDING FREEWAYS"
   ]
  },
  {
   "cell_type": "code",
   "execution_count": 1,
   "metadata": {},
   "outputs": [],
   "source": [
    "import math\n",
    "import matplotlib.pyplot as plt\n",
    "import networkx as nx\n",
    "import numpy as np\n",
    "import osmnx as ox\n",
    "import pandas as pd\n",
    "from scipy.stats import ttest_ind\n",
    "\n",
    "simulate_all_trips = True"
   ]
  },
  {
   "cell_type": "markdown",
   "metadata": {},
   "source": [
    "## Load network and ODs"
   ]
  },
  {
   "cell_type": "code",
   "execution_count": 2,
   "metadata": {},
   "outputs": [
    {
     "name": "stdout",
     "output_type": "stream",
     "text": [
      "1594\n",
      "1594\n"
     ]
    }
   ],
   "source": [
    "# load the origin-destination node pairs\n",
    "od_dir = pd.read_csv('data/od-directed.csv')\n",
    "od_undir = pd.read_csv('data/od-undirected.csv')\n",
    "print(len(od_dir))\n",
    "print(len(od_undir))"
   ]
  },
  {
   "cell_type": "code",
   "execution_count": 3,
   "metadata": {},
   "outputs": [
    {
     "name": "stdout",
     "output_type": "stream",
     "text": [
      "Wall time: 3.72 s\n"
     ]
    }
   ],
   "source": [
    "%%time\n",
    "# load the networks\n",
    "G_dir = ox.load_graphml('sf-directed.graphml', folder='data')\n",
    "G_undir = ox.load_graphml('sf-undirected.graphml', folder='data')"
   ]
  },
  {
   "cell_type": "code",
   "execution_count": 4,
   "metadata": {},
   "outputs": [
    {
     "name": "stdout",
     "output_type": "stream",
     "text": [
      "False\n",
      "True\n"
     ]
    }
   ],
   "source": [
    "print(nx.is_strongly_connected(G_dir))\n",
    "print(nx.is_strongly_connected(G_undir))"
   ]
  },
  {
   "cell_type": "markdown",
   "metadata": {},
   "source": [
    "## How many trips to simulate"
   ]
  },
  {
   "cell_type": "code",
   "execution_count": 5,
   "metadata": {},
   "outputs": [
    {
     "data": {
      "text/plain": [
       "711"
      ]
     },
     "execution_count": 5,
     "metadata": {},
     "output_type": "execute_result"
    }
   ],
   "source": [
    "# there are 1,133,333 daily trips that being/end in SF\n",
    "if simulate_all_trips:\n",
    "    total_daily_trips = 1133333\n",
    "    multiplier = total_daily_trips / len(od_dir)\n",
    "    multiplier = math.ceil(multiplier)\n",
    "else:\n",
    "    multiplier = 1\n",
    "multiplier"
   ]
  },
  {
   "cell_type": "code",
   "execution_count": 6,
   "metadata": {},
   "outputs": [
    {
     "data": {
      "text/plain": [
       "1133334"
      ]
     },
     "execution_count": 6,
     "metadata": {},
     "output_type": "execute_result"
    }
   ],
   "source": [
    "od_dir = pd.concat([od_dir]*multiplier, ignore_index=True)\n",
    "len(od_dir)"
   ]
  },
  {
   "cell_type": "code",
   "execution_count": 7,
   "metadata": {},
   "outputs": [
    {
     "data": {
      "text/plain": [
       "1133334"
      ]
     },
     "execution_count": 7,
     "metadata": {},
     "output_type": "execute_result"
    }
   ],
   "source": [
    "od_undir = pd.concat([od_undir]*multiplier, ignore_index=True)\n",
    "len(od_dir)"
   ]
  },
  {
   "cell_type": "markdown",
   "metadata": {},
   "source": [
    "## Calculate routes between origins and destinations\n",
    "\n",
    "#### First, look at topological graph distance (number of edges traversed)"
   ]
  },
  {
   "cell_type": "code",
   "execution_count": 8,
   "metadata": {},
   "outputs": [],
   "source": [
    "# calculate shortest path topological distance (edges) between rows' origin and destination nodes\n",
    "def network_distance(row, G):\n",
    "    try:\n",
    "        return nx.shortest_path_length(G, source=row['orig'], target=row['dest'])\n",
    "    except:\n",
    "        return np.nan"
   ]
  },
  {
   "cell_type": "code",
   "execution_count": 9,
   "metadata": {},
   "outputs": [
    {
     "name": "stdout",
     "output_type": "stream",
     "text": [
      "Wall time: 23min 43s\n"
     ]
    }
   ],
   "source": [
    "%%time\n",
    "# for the real-world directed graph\n",
    "od_dir['network_distance_e'] = od_dir.apply(network_distance, axis=1, G=G_dir)"
   ]
  },
  {
   "cell_type": "code",
   "execution_count": 10,
   "metadata": {},
   "outputs": [
    {
     "name": "stdout",
     "output_type": "stream",
     "text": [
      "Wall time: 23min 52s\n"
     ]
    }
   ],
   "source": [
    "%%time\n",
    "# for the bidirectional undirected graph\n",
    "od_undir['network_distance_e'] = od_undir.apply(network_distance, axis=1, G=G_undir)"
   ]
  },
  {
   "cell_type": "code",
   "execution_count": 11,
   "metadata": {},
   "outputs": [
    {
     "data": {
      "text/plain": [
       "count    1.129779e+06\n",
       "mean     3.279484e+01\n",
       "std      1.538136e+01\n",
       "min      0.000000e+00\n",
       "25%      2.200000e+01\n",
       "50%      3.400000e+01\n",
       "75%      4.300000e+01\n",
       "max      7.700000e+01\n",
       "Name: network_distance_e, dtype: float64"
      ]
     },
     "execution_count": 11,
     "metadata": {},
     "output_type": "execute_result"
    }
   ],
   "source": [
    "od_dir['network_distance_e'].describe()"
   ]
  },
  {
   "cell_type": "code",
   "execution_count": 12,
   "metadata": {},
   "outputs": [
    {
     "data": {
      "text/plain": [
       "count    1.133334e+06\n",
       "mean     3.047302e+01\n",
       "std      1.440100e+01\n",
       "min      0.000000e+00\n",
       "25%      2.000000e+01\n",
       "50%      3.100000e+01\n",
       "75%      4.000000e+01\n",
       "max      7.000000e+01\n",
       "Name: network_distance_e, dtype: float64"
      ]
     },
     "execution_count": 12,
     "metadata": {},
     "output_type": "execute_result"
    }
   ],
   "source": [
    "od_undir['network_distance_e'].describe()"
   ]
  },
  {
   "cell_type": "code",
   "execution_count": 13,
   "metadata": {},
   "outputs": [
    {
     "data": {
      "image/png": "[encoded data removed]",
      "text/plain": [
       "<Figure size 432x288 with 1 Axes>"
      ]
     },
     "metadata": {
      "needs_background": "light"
     },
     "output_type": "display_data"
    }
   ],
   "source": [
    "bw = 0.4\n",
    "lw = 1.5\n",
    "ax = (od_dir['network_distance_e']).plot.kde(label='Real-World Network', lw=lw, bw_method=bw)\n",
    "ax = (od_undir['network_distance_e']).plot.kde(ax=ax, label='Two-Way Converted', lw=lw, bw_method=bw)\n",
    "ax.set_ylim(bottom=0)\n",
    "ax.set_xlim(left=-14, right=85)\n",
    "ax.set_xlabel('Blocks Traversed in Commute')\n",
    "ax.set_ylabel('Probability Density')\n",
    "plt.legend()\n",
    "plt.show()"
   ]
  },
  {
   "cell_type": "code",
   "execution_count": 14,
   "metadata": {},
   "outputs": [
    {
     "name": "stdout",
     "output_type": "stream",
     "text": [
      "n=1133334, δ=2.32, t=117.21, p=0.0000\n"
     ]
    }
   ],
   "source": [
    "# are the average blocks-traveled per trip significantly different?\n",
    "a = od_dir['network_distance_e']\n",
    "b = od_undir['network_distance_e']\n",
    "diff = a.mean() - b.mean()\n",
    "t_statistic, p_value = ttest_ind(a=a, b=b, equal_var=False, nan_policy='omit', )\n",
    "\n",
    "# convert from two-tailed to one-tailed p-value, because one-way network could never be shorter than two-way\n",
    "p_value = p_value / 2\n",
    "print('n={:}, δ={:0.2f}, t={:0.2f}, p={:0.4f}'.format(len(a), diff, t_statistic, p_value))"
   ]
  },
  {
   "cell_type": "markdown",
   "metadata": {},
   "source": [
    "#### Second, look at metric distance (meters traveled)"
   ]
  },
  {
   "cell_type": "code",
   "execution_count": 15,
   "metadata": {},
   "outputs": [],
   "source": [
    "# calculate shortest path metric distance (meters) between rows' origin and destination nodes\n",
    "def network_distance(row, G):\n",
    "    try:\n",
    "        return nx.shortest_path_length(G, source=row['orig'], target=row['dest'], weight='length')\n",
    "    except:\n",
    "        return np.nan"
   ]
  },
  {
   "cell_type": "code",
   "execution_count": 16,
   "metadata": {},
   "outputs": [
    {
     "name": "stdout",
     "output_type": "stream",
     "text": [
      "Wall time: 4h 14min 6s\n"
     ]
    }
   ],
   "source": [
    "%%time\n",
    "# for the real-world directed graph\n",
    "od_dir['network_distance_m'] = od_dir.apply(network_distance, axis=1, G=G_dir)"
   ]
  },
  {
   "cell_type": "code",
   "execution_count": 17,
   "metadata": {},
   "outputs": [
    {
     "name": "stdout",
     "output_type": "stream",
     "text": [
      "Wall time: 4h 42min\n"
     ]
    }
   ],
   "source": [
    "%%time\n",
    "# for the bidirectional undirected graph\n",
    "od_undir['network_distance_m'] = od_undir.apply(network_distance, axis=1, G=G_undir)"
   ]
  },
  {
   "cell_type": "code",
   "execution_count": 18,
   "metadata": {},
   "outputs": [
    {
     "data": {
      "text/plain": [
       "count    1.129779e+06\n",
       "mean     4.958908e+03\n",
       "std      2.864337e+03\n",
       "min      0.000000e+00\n",
       "25%      2.756324e+03\n",
       "50%      4.694349e+03\n",
       "75%      6.759579e+03\n",
       "max      1.358795e+04\n",
       "Name: network_distance_m, dtype: float64"
      ]
     },
     "execution_count": 18,
     "metadata": {},
     "output_type": "execute_result"
    }
   ],
   "source": [
    "od_dir['network_distance_m'].describe()"
   ]
  },
  {
   "cell_type": "code",
   "execution_count": 19,
   "metadata": {},
   "outputs": [
    {
     "data": {
      "text/plain": [
       "count    1.133334e+06\n",
       "mean     4.881790e+03\n",
       "std      2.842707e+03\n",
       "min      0.000000e+00\n",
       "25%      2.697622e+03\n",
       "50%      4.641073e+03\n",
       "75%      6.696135e+03\n",
       "max      1.339998e+04\n",
       "Name: network_distance_m, dtype: float64"
      ]
     },
     "execution_count": 19,
     "metadata": {},
     "output_type": "execute_result"
    }
   ],
   "source": [
    "od_undir['network_distance_m'].describe()"
   ]
  },
  {
   "cell_type": "code",
   "execution_count": 20,
   "metadata": {},
   "outputs": [
    {
     "data": {
      "image/png": "[encoded data removed]",
      "text/plain": [
       "<Figure size 432x288 with 1 Axes>"
      ]
     },
     "metadata": {
      "needs_background": "light"
     },
     "output_type": "display_data"
    }
   ],
   "source": [
    "ax = (od_dir['network_distance_m']/1e3).plot.kde(label='dir', bw_method=bw)\n",
    "ax = (od_undir['network_distance_m']/1e3).plot.kde(ax=ax, label='undir', bw_method=bw)\n",
    "ax.set_ylim(bottom=0)\n",
    "ax.set_xlim(left=-2, right=15)\n",
    "ax.set_xlabel('commute distance (km)')\n",
    "plt.legend()\n",
    "plt.show()"
   ]
  },
  {
   "cell_type": "markdown",
   "metadata": {},
   "source": [
    "## Stats"
   ]
  },
  {
   "cell_type": "code",
   "execution_count": 21,
   "metadata": {},
   "outputs": [
    {
     "data": {
      "text/html": [
       "<div>\n",
       "<style scoped>\n",
       "    .dataframe tbody tr th:only-of-type {\n",
       "        vertical-align: middle;\n",
       "    }\n",
       "\n",
       "    .dataframe tbody tr th {\n",
       "        vertical-align: top;\n",
       "    }\n",
       "\n",
       "    .dataframe thead th {\n",
       "        text-align: right;\n",
       "    }\n",
       "</style>\n",
       "<table border=\"1\" class=\"dataframe\">\n",
       "  <thead>\n",
       "    <tr style=\"text-align: right;\">\n",
       "      <th></th>\n",
       "      <th>SAMPN</th>\n",
       "      <th>PERNO</th>\n",
       "      <th>orig</th>\n",
       "      <th>dest</th>\n",
       "      <th>network_distance_e_dir</th>\n",
       "      <th>network_distance_m_dir</th>\n",
       "      <th>network_distance_e_undir</th>\n",
       "      <th>network_distance_m_undir</th>\n",
       "    </tr>\n",
       "  </thead>\n",
       "  <tbody>\n",
       "    <tr>\n",
       "      <th>0</th>\n",
       "      <td>1033944</td>\n",
       "      <td>1</td>\n",
       "      <td>65335448</td>\n",
       "      <td>65303721</td>\n",
       "      <td>36.0</td>\n",
       "      <td>10456.018</td>\n",
       "      <td>33</td>\n",
       "      <td>10158.832</td>\n",
       "    </tr>\n",
       "    <tr>\n",
       "      <th>1</th>\n",
       "      <td>1049908</td>\n",
       "      <td>1</td>\n",
       "      <td>65334137</td>\n",
       "      <td>1723738893</td>\n",
       "      <td>12.0</td>\n",
       "      <td>1586.707</td>\n",
       "      <td>12</td>\n",
       "      <td>1465.948</td>\n",
       "    </tr>\n",
       "    <tr>\n",
       "      <th>2</th>\n",
       "      <td>1051388</td>\n",
       "      <td>2</td>\n",
       "      <td>65298349</td>\n",
       "      <td>65303529</td>\n",
       "      <td>42.0</td>\n",
       "      <td>5382.936</td>\n",
       "      <td>38</td>\n",
       "      <td>5022.611</td>\n",
       "    </tr>\n",
       "    <tr>\n",
       "      <th>3</th>\n",
       "      <td>1051795</td>\n",
       "      <td>1</td>\n",
       "      <td>65294011</td>\n",
       "      <td>65352454</td>\n",
       "      <td>55.0</td>\n",
       "      <td>8897.233</td>\n",
       "      <td>53</td>\n",
       "      <td>8467.548</td>\n",
       "    </tr>\n",
       "    <tr>\n",
       "      <th>4</th>\n",
       "      <td>1069723</td>\n",
       "      <td>1</td>\n",
       "      <td>65301529</td>\n",
       "      <td>65329980</td>\n",
       "      <td>28.0</td>\n",
       "      <td>3880.537</td>\n",
       "      <td>28</td>\n",
       "      <td>3879.431</td>\n",
       "    </tr>\n",
       "  </tbody>\n",
       "</table>\n",
       "</div>"
      ],
      "text/plain": [
       "     SAMPN  PERNO      orig        dest  network_distance_e_dir  \\\n",
       "0  1033944      1  65335448    65303721                    36.0   \n",
       "1  1049908      1  65334137  1723738893                    12.0   \n",
       "2  1051388      2  65298349    65303529                    42.0   \n",
       "3  1051795      1  65294011    65352454                    55.0   \n",
       "4  1069723      1  65301529    65329980                    28.0   \n",
       "\n",
       "   network_distance_m_dir  network_distance_e_undir  network_distance_m_undir  \n",
       "0               10456.018                        33                 10158.832  \n",
       "1                1586.707                        12                  1465.948  \n",
       "2                5382.936                        38                  5022.611  \n",
       "3                8897.233                        53                  8467.548  \n",
       "4                3880.537                        28                  3879.431  "
      ]
     },
     "execution_count": 21,
     "metadata": {},
     "output_type": "execute_result"
    }
   ],
   "source": [
    "left = od_dir\n",
    "right = od_undir[['network_distance_e', 'network_distance_m']]\n",
    "df = pd.merge(left, right, left_index=True, right_index=True, suffixes=('_dir', '_undir'))\n",
    "df.head()"
   ]
  },
  {
   "cell_type": "code",
   "execution_count": 22,
   "metadata": {},
   "outputs": [
    {
     "name": "stdout",
     "output_type": "stream",
     "text": [
      "n=1133334, δ=77.12, t=20.33, p=0.0000\n"
     ]
    }
   ],
   "source": [
    "# are the average distances (m) traveled per trip significantly different?\n",
    "a = df['network_distance_m_dir']\n",
    "b = df['network_distance_m_undir']\n",
    "diff = a.mean() - b.mean()\n",
    "t_statistic, p_value = ttest_ind(a=a, b=b, equal_var=False, nan_policy='omit', )\n",
    "\n",
    "# convert from two-tailed to one-tailed p-value, because one-way network could never be shorter than two-way\n",
    "p_value = p_value / 2\n",
    "print('n={:}, δ={:0.2f}, t={:0.2f}, p={:0.4f}'.format(len(a), diff, t_statistic, p_value))"
   ]
  },
  {
   "cell_type": "code",
   "execution_count": 23,
   "metadata": {},
   "outputs": [
    {
     "data": {
      "text/plain": [
       "1.0157971650294355"
      ]
     },
     "execution_count": 23,
     "metadata": {},
     "output_type": "execute_result"
    }
   ],
   "source": [
    "a.mean() / b.mean()"
   ]
  },
  {
   "cell_type": "code",
   "execution_count": 24,
   "metadata": {},
   "outputs": [
    {
     "data": {
      "image/png": "[encoded data removed]",
      "text/plain": [
       "<Figure size 432x288 with 1 Axes>"
      ]
     },
     "metadata": {
      "needs_background": "light"
     },
     "output_type": "display_data"
    }
   ],
   "source": [
    "ax = (a - b).plot.kde(bw_method=bw)\n",
    "ax.set_xlim(left=-150, right=700)\n",
    "ax.set_ylim(bottom=0)\n",
    "plt.show()"
   ]
  },
  {
   "cell_type": "markdown",
   "metadata": {},
   "source": [
    "## Surplus VKT and fuel consumption\n",
    "\n",
    "#### method 1"
   ]
  },
  {
   "cell_type": "code",
   "execution_count": 25,
   "metadata": {},
   "outputs": [],
   "source": [
    "# daily km traveled in SF (trips entirely within SF only) https://www.sfcta.org/tncstoday\n",
    "daily_km = 4586630"
   ]
  },
  {
   "cell_type": "code",
   "execution_count": 26,
   "metadata": {},
   "outputs": [
    {
     "data": {
      "text/plain": [
       "71328.95575354341"
      ]
     },
     "execution_count": 26,
     "metadata": {},
     "output_type": "execute_result"
    }
   ],
   "source": [
    "# estimate surplus VKT per day\n",
    "surplus_vkt_daily = daily_km - (daily_km / (a.mean() / b.mean()))\n",
    "surplus_vkt_daily"
   ]
  },
  {
   "cell_type": "code",
   "execution_count": 27,
   "metadata": {},
   "outputs": [
    {
     "data": {
      "text/plain": [
       "26035068.850043345"
      ]
     },
     "execution_count": 27,
     "metadata": {},
     "output_type": "execute_result"
    }
   ],
   "source": [
    "# estimate surplus VKT per year\n",
    "surplus_vkt_daily * 365"
   ]
  },
  {
   "cell_type": "markdown",
   "metadata": {},
   "source": [
    "#### method 2"
   ]
  },
  {
   "cell_type": "code",
   "execution_count": 28,
   "metadata": {},
   "outputs": [],
   "source": [
    "total_daily_trips = 1133333 #how many trips begin and end in sf each day https://www.sfcta.org/tncstoday"
   ]
  },
  {
   "cell_type": "code",
   "execution_count": 29,
   "metadata": {},
   "outputs": [
    {
     "data": {
      "text/plain": [
       "87400.8739596589"
      ]
     },
     "execution_count": 29,
     "metadata": {},
     "output_type": "execute_result"
    }
   ],
   "source": [
    "# estimate surplus VKT per day\n",
    "surplus_vkt_daily = total_daily_trips * (a.mean() - b.mean()) / 1000\n",
    "surplus_vkt_daily"
   ]
  },
  {
   "cell_type": "code",
   "execution_count": 30,
   "metadata": {},
   "outputs": [
    {
     "data": {
      "text/plain": [
       "31901318.995275497"
      ]
     },
     "execution_count": 30,
     "metadata": {},
     "output_type": "execute_result"
    }
   ],
   "source": [
    "# estimate surplus VKT per year\n",
    "surplus_vkt_daily * 365"
   ]
  },
  {
   "cell_type": "markdown",
   "metadata": {},
   "source": [
    "#### fuel consumption"
   ]
  },
  {
   "cell_type": "code",
   "execution_count": 31,
   "metadata": {},
   "outputs": [
    {
     "data": {
      "text/plain": [
       "802548.905541522"
      ]
     },
     "execution_count": 31,
     "metadata": {},
     "output_type": "execute_result"
    }
   ],
   "source": [
    "# how many surplus gallons of fuel does this waste per year?\n",
    "fuel_econ = 39.75 # 23 mpg to km-p-g https://www.reuters.com/article/us-autos-emissions/u-s-vehicle-fuel-economy-rises-to-record-24-7-mpg-epa-idUSKBN1F02BX\n",
    "surplus_fuel_gallons = (surplus_vkt_daily * 365) / fuel_econ\n",
    "surplus_fuel_gallons"
   ]
  },
  {
   "cell_type": "code",
   "execution_count": 32,
   "metadata": {},
   "outputs": [
    {
     "data": {
      "text/plain": [
       "16050978.11083044"
      ]
     },
     "execution_count": 32,
     "metadata": {},
     "output_type": "execute_result"
    }
   ],
   "source": [
    "# burning a gallon of gas releases 20 lbs of CO2 https://www.fueleconomy.gov/feg/contentIncludes/co2_inc.htm\n",
    "surplus_fuel_gallons * 20"
   ]
  },
  {
   "cell_type": "markdown",
   "metadata": {},
   "source": [
    "## Save to disk"
   ]
  },
  {
   "cell_type": "code",
   "execution_count": 33,
   "metadata": {},
   "outputs": [],
   "source": [
    "# save to disk\n",
    "df.to_csv('data/od_distances.csv', index=False, encoding='utf-8')"
   ]
  },
  {
   "cell_type": "code",
   "execution_count": null,
   "metadata": {},
   "outputs": [],
   "source": []
  }
 ],
 "metadata": {
  "kernelspec": {
   "display_name": "Python 3",
   "language": "python",
   "name": "python3"
  },
  "language_info": {
   "codemirror_mode": {
    "name": "ipython",
    "version": 3
   },
   "file_extension": ".py",
   "mimetype": "text/x-python",
   "name": "python",
   "nbconvert_exporter": "python",
   "pygments_lexer": "ipython3",
   "version": "3.7.1"
  }
 },
 "nbformat": 4,
 "nbformat_minor": 2
}
