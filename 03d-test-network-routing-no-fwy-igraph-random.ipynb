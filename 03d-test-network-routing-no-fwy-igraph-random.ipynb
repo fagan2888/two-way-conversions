{
 "cells": [
  {
   "cell_type": "markdown",
   "metadata": {},
   "source": [
    "# Calculate network routes between origins and destinations\n",
    "\n",
    "IGNORING FREEWAYS + USING IGRAPH + RANDOM ODs"
   ]
  },
  {
   "cell_type": "code",
   "execution_count": 1,
   "metadata": {},
   "outputs": [],
   "source": [
    "import igraph as ig\n",
    "import math\n",
    "import matplotlib.pyplot as plt\n",
    "import networkx as nx\n",
    "import numpy as np\n",
    "import osmnx as ox\n",
    "import pandas as pd\n",
    "from scipy.stats import ttest_ind\n",
    "\n",
    "np.random.seed(0)\n",
    "simulate_all_trips = True"
   ]
  },
  {
   "cell_type": "markdown",
   "metadata": {},
   "source": [
    "## Load network and ODs"
   ]
  },
  {
   "cell_type": "code",
   "execution_count": 2,
   "metadata": {},
   "outputs": [
    {
     "name": "stdout",
     "output_type": "stream",
     "text": [
      "Wall time: 3.27 s\n"
     ]
    }
   ],
   "source": [
    "%%time\n",
    "# load the networks\n",
    "G_dir = ox.load_graphml('sf-directed-no-fwy.graphml', folder='data')\n",
    "G_undir = ox.load_graphml('sf-undirected-no-fwy.graphml', folder='data')"
   ]
  },
  {
   "cell_type": "code",
   "execution_count": 3,
   "metadata": {},
   "outputs": [
    {
     "name": "stdout",
     "output_type": "stream",
     "text": [
      "False\n",
      "False\n"
     ]
    }
   ],
   "source": [
    "print(nx.is_strongly_connected(G_dir))\n",
    "print(nx.is_strongly_connected(G_undir))"
   ]
  },
  {
   "cell_type": "code",
   "execution_count": 4,
   "metadata": {},
   "outputs": [],
   "source": [
    "# generate random ODs from the nodes common to both graphs\n",
    "# (so we're simulating the same set of trips on each graph)\n",
    "nodes_dir = ox.graph_to_gdfs(G_dir, edges=False, node_geometry=False, fill_edge_geometry=False)\n",
    "nodes_undir = ox.graph_to_gdfs(G_undir, edges=False, node_geometry=False, fill_edge_geometry=False)\n",
    "common_nodes = pd.Series(list(set(nodes_dir.index.tolist()) & set(nodes_undir.index.tolist())))\n",
    "\n",
    "od_dir = pd.DataFrame()\n",
    "od_dir['orig'] = common_nodes.sample(frac=1).values\n",
    "od_dir['dest'] = common_nodes.sample(frac=1).values\n",
    "od_undir = od_dir"
   ]
  },
  {
   "cell_type": "code",
   "execution_count": 5,
   "metadata": {},
   "outputs": [
    {
     "name": "stdout",
     "output_type": "stream",
     "text": [
      "9366\n"
     ]
    }
   ],
   "source": [
    "# confirm the origins and destinations match between the two datasets\n",
    "assert (od_dir['orig']==od_undir['orig']).sum() == len(od_dir) == len(od_undir)\n",
    "assert (od_dir['dest']==od_undir['dest']).sum() == len(od_dir) == len(od_undir)\n",
    "print(len(od_dir))"
   ]
  },
  {
   "cell_type": "markdown",
   "metadata": {},
   "source": [
    "## How many trips to simulate"
   ]
  },
  {
   "cell_type": "code",
   "execution_count": 6,
   "metadata": {},
   "outputs": [
    {
     "data": {
      "text/plain": [
       "122"
      ]
     },
     "execution_count": 6,
     "metadata": {},
     "output_type": "execute_result"
    }
   ],
   "source": [
    "# there are 1,133,333 daily trips that being/end in SF\n",
    "if simulate_all_trips:\n",
    "    total_daily_trips = 1133333\n",
    "    multiplier = total_daily_trips / len(od_dir)\n",
    "    multiplier = math.ceil(multiplier)\n",
    "else:\n",
    "    multiplier = 1\n",
    "multiplier"
   ]
  },
  {
   "cell_type": "code",
   "execution_count": 7,
   "metadata": {},
   "outputs": [
    {
     "data": {
      "text/plain": [
       "1142652"
      ]
     },
     "execution_count": 7,
     "metadata": {},
     "output_type": "execute_result"
    }
   ],
   "source": [
    "od_dir = pd.concat([od_dir]*multiplier, ignore_index=True)\n",
    "len(od_dir)"
   ]
  },
  {
   "cell_type": "code",
   "execution_count": 8,
   "metadata": {},
   "outputs": [
    {
     "data": {
      "text/plain": [
       "1142652"
      ]
     },
     "execution_count": 8,
     "metadata": {},
     "output_type": "execute_result"
    }
   ],
   "source": [
    "od_undir = pd.concat([od_undir]*multiplier, ignore_index=True)\n",
    "len(od_dir)"
   ]
  },
  {
   "cell_type": "markdown",
   "metadata": {},
   "source": [
    "## Convert networkx graphs to igraph"
   ]
  },
  {
   "cell_type": "code",
   "execution_count": 9,
   "metadata": {},
   "outputs": [],
   "source": [
    "weight = 'length'\n",
    "\n",
    "G_dir = nx.relabel.convert_node_labels_to_integers(G_dir)\n",
    "G_dir_nodeid_to_osmid = {data['osmid']:nodeid for nodeid, data in G_dir.nodes().items()}\n",
    "\n",
    "G_undir = nx.relabel.convert_node_labels_to_integers(G_undir)\n",
    "G_undir_nodeid_to_osmid = {data['osmid']:nodeid for nodeid, data in G_undir.nodes().items()}"
   ]
  },
  {
   "cell_type": "code",
   "execution_count": 10,
   "metadata": {},
   "outputs": [
    {
     "name": "stdout",
     "output_type": "stream",
     "text": [
      "Wall time: 53 ms\n"
     ]
    }
   ],
   "source": [
    "%%time\n",
    "# convert directed networkx graph to igraph\n",
    "G_dir_ig = ig.Graph(directed=True)\n",
    "G_dir_ig.add_vertices(list(G_dir.nodes()))\n",
    "G_dir_ig.add_edges(list(G_dir.edges()))\n",
    "G_dir_ig.vs['osmid'] = list(nx.get_node_attributes(G_dir, 'osmid').values())\n",
    "G_dir_ig.es[weight] = list(nx.get_edge_attributes(G_dir, weight).values())\n",
    "\n",
    "assert len(G_dir.nodes()) == G_dir_ig.vcount()\n",
    "assert len(G_dir.edges()) == G_dir_ig.ecount()"
   ]
  },
  {
   "cell_type": "code",
   "execution_count": 11,
   "metadata": {},
   "outputs": [
    {
     "name": "stdout",
     "output_type": "stream",
     "text": [
      "Wall time: 59 ms\n"
     ]
    }
   ],
   "source": [
    "%%time\n",
    "# convert undirected networkx graph to igraph\n",
    "G_undir_ig = ig.Graph(directed=False)\n",
    "G_undir_ig.add_vertices(list(G_undir.nodes()))\n",
    "G_undir_ig.add_edges(list(G_undir.edges()))\n",
    "G_undir_ig.vs['osmid'] = list(nx.get_node_attributes(G_undir, 'osmid').values())\n",
    "G_undir_ig.es[weight] = list(nx.get_edge_attributes(G_undir, weight).values())\n",
    "\n",
    "assert len(G_undir.nodes()) == G_undir_ig.vcount()\n",
    "assert len(G_undir.edges()) == G_undir_ig.ecount()"
   ]
  },
  {
   "cell_type": "markdown",
   "metadata": {},
   "source": [
    "## Calculate routes between origins and destinations\n",
    "\n",
    "#### First, look at topological graph distance (number of edges/blocks traversed)"
   ]
  },
  {
   "cell_type": "code",
   "execution_count": 12,
   "metadata": {},
   "outputs": [],
   "source": [
    "# calculate shortest path topological distance (edges) between rows' origin and destination nodes\n",
    "def network_distance(row, G_ig, nodeid_to_osmid, weight=None):\n",
    "    try:\n",
    "        source = nodeid_to_osmid[row['orig']]\n",
    "        target = nodeid_to_osmid[row['dest']]\n",
    "        return G_ig.shortest_paths(source=source, target=target, weights=weight)[0][0]\n",
    "    except:\n",
    "        return np.nan"
   ]
  },
  {
   "cell_type": "code",
   "execution_count": 13,
   "metadata": {},
   "outputs": [
    {
     "name": "stdout",
     "output_type": "stream",
     "text": [
      "Wall time: 21min 13s\n"
     ]
    }
   ],
   "source": [
    "%%time\n",
    "# for the real-world directed graph\n",
    "od_dir['network_distance_e'] = od_dir.apply(network_distance, axis=1, G_ig=G_dir_ig, nodeid_to_osmid=G_dir_nodeid_to_osmid)"
   ]
  },
  {
   "cell_type": "code",
   "execution_count": 14,
   "metadata": {},
   "outputs": [
    {
     "name": "stdout",
     "output_type": "stream",
     "text": [
      "Wall time: 24min 25s\n"
     ]
    }
   ],
   "source": [
    "%%time\n",
    "# for the bidirectional undirected graph\n",
    "od_undir['network_distance_e'] = od_undir.apply(network_distance, axis=1, G_ig=G_undir_ig, nodeid_to_osmid=G_undir_nodeid_to_osmid)"
   ]
  },
  {
   "cell_type": "code",
   "execution_count": 15,
   "metadata": {},
   "outputs": [
    {
     "data": {
      "text/plain": [
       "count    1.073234e+06\n",
       "mean     4.953973e+01\n",
       "std      2.150922e+01\n",
       "min      0.000000e+00\n",
       "25%      3.300000e+01\n",
       "50%      4.900000e+01\n",
       "75%      6.500000e+01\n",
       "max      1.160000e+02\n",
       "Name: network_distance_e, dtype: float64"
      ]
     },
     "execution_count": 15,
     "metadata": {},
     "output_type": "execute_result"
    }
   ],
   "source": [
    "blocks_dir = od_dir['network_distance_e'].replace([np.inf, -np.inf], np.nan).dropna()\n",
    "blocks_dir.describe()"
   ]
  },
  {
   "cell_type": "code",
   "execution_count": 16,
   "metadata": {},
   "outputs": [
    {
     "data": {
      "text/plain": [
       "count    1.075918e+06\n",
       "mean     4.709910e+01\n",
       "std      2.052211e+01\n",
       "min      0.000000e+00\n",
       "25%      3.200000e+01\n",
       "50%      4.600000e+01\n",
       "75%      6.200000e+01\n",
       "max      1.120000e+02\n",
       "Name: network_distance_e, dtype: float64"
      ]
     },
     "execution_count": 16,
     "metadata": {},
     "output_type": "execute_result"
    }
   ],
   "source": [
    "blocks_undir = od_undir['network_distance_e'].replace([np.inf, -np.inf], np.nan).dropna()\n",
    "blocks_undir.describe()"
   ]
  },
  {
   "cell_type": "code",
   "execution_count": 17,
   "metadata": {},
   "outputs": [
    {
     "data": {
      "image/png": "[encoded data removed]",
      "text/plain": [
       "<Figure size 432x288 with 1 Axes>"
      ]
     },
     "metadata": {
      "needs_background": "light"
     },
     "output_type": "display_data"
    }
   ],
   "source": [
    "bw = 0.4\n",
    "lw = 1.5\n",
    "ax = (blocks_dir).plot.kde(label='Real-World Network', lw=lw, bw_method=bw)\n",
    "ax = (blocks_undir).plot.kde(ax=ax, label='Two-Way Converted', lw=lw, bw_method=bw)\n",
    "ax.set_ylim(bottom=0)\n",
    "ax.set_xlim(left=-14, right=85)\n",
    "ax.set_xlabel('Blocks Traversed in Commute')\n",
    "ax.set_ylabel('Probability Density')\n",
    "plt.legend()\n",
    "plt.show()"
   ]
  },
  {
   "cell_type": "code",
   "execution_count": 18,
   "metadata": {},
   "outputs": [
    {
     "name": "stdout",
     "output_type": "stream",
     "text": [
      "n=1073234, δ=2.44, t=85.10, p=0.0000\n"
     ]
    }
   ],
   "source": [
    "# are the average blocks-traveled per trip significantly different?\n",
    "a = blocks_dir\n",
    "b = blocks_undir\n",
    "diff = a.mean() - b.mean()\n",
    "t_statistic, p_value = ttest_ind(a=a, b=b, equal_var=False, nan_policy='omit', )\n",
    "\n",
    "# convert from two-tailed to one-tailed p-value, because one-way network could never be shorter than two-way\n",
    "p_value = p_value / 2\n",
    "print('n={:}, δ={:0.2f}, t={:0.2f}, p={:0.4f}'.format(len(a), diff, t_statistic, p_value))"
   ]
  },
  {
   "cell_type": "markdown",
   "metadata": {},
   "source": [
    "#### Second, look at metric distance (meters traveled)"
   ]
  },
  {
   "cell_type": "code",
   "execution_count": 19,
   "metadata": {},
   "outputs": [
    {
     "name": "stdout",
     "output_type": "stream",
     "text": [
      "Wall time: 35min 36s\n"
     ]
    }
   ],
   "source": [
    "%%time\n",
    "# for the real-world directed graph\n",
    "od_dir['network_distance_m'] = od_dir.apply(network_distance, axis=1, G_ig=G_dir_ig, nodeid_to_osmid=G_dir_nodeid_to_osmid, weight='length')"
   ]
  },
  {
   "cell_type": "code",
   "execution_count": 20,
   "metadata": {},
   "outputs": [
    {
     "name": "stdout",
     "output_type": "stream",
     "text": [
      "Wall time: 41min 18s\n"
     ]
    }
   ],
   "source": [
    "%%time\n",
    "# for the bidirectional undirected graph\n",
    "od_undir['network_distance_m'] = od_undir.apply(network_distance, axis=1, G_ig=G_undir_ig, nodeid_to_osmid=G_undir_nodeid_to_osmid, weight='length')"
   ]
  },
  {
   "cell_type": "code",
   "execution_count": 21,
   "metadata": {},
   "outputs": [
    {
     "data": {
      "text/plain": [
       "count    1.073234e+06\n",
       "mean     6.503145e+03\n",
       "std      3.031234e+03\n",
       "min      0.000000e+00\n",
       "25%      4.140610e+03\n",
       "50%      6.390660e+03\n",
       "75%      8.618069e+03\n",
       "max      1.621072e+04\n",
       "Name: network_distance_m, dtype: float64"
      ]
     },
     "execution_count": 21,
     "metadata": {},
     "output_type": "execute_result"
    }
   ],
   "source": [
    "meters_dir = od_dir['network_distance_m'].replace([np.inf, -np.inf], np.nan).dropna()\n",
    "meters_dir.describe()"
   ]
  },
  {
   "cell_type": "code",
   "execution_count": 22,
   "metadata": {},
   "outputs": [
    {
     "data": {
      "text/plain": [
       "count    1.075918e+06\n",
       "mean     6.423814e+03\n",
       "std      3.010412e+03\n",
       "min      0.000000e+00\n",
       "25%      4.074802e+03\n",
       "50%      6.303735e+03\n",
       "75%      8.540130e+03\n",
       "max      1.617951e+04\n",
       "Name: network_distance_m, dtype: float64"
      ]
     },
     "execution_count": 22,
     "metadata": {},
     "output_type": "execute_result"
    }
   ],
   "source": [
    "meters_undir = od_undir['network_distance_m'].replace([np.inf, -np.inf], np.nan).dropna()\n",
    "meters_undir.describe()"
   ]
  },
  {
   "cell_type": "code",
   "execution_count": 23,
   "metadata": {},
   "outputs": [
    {
     "data": {
      "image/png": "[encoded data removed]",
      "text/plain": [
       "<Figure size 432x288 with 1 Axes>"
      ]
     },
     "metadata": {
      "needs_background": "light"
     },
     "output_type": "display_data"
    }
   ],
   "source": [
    "ax = (meters_dir/1000).plot.kde(label='dir', bw_method=bw)\n",
    "ax = (meters_undir/1000).plot.kde(ax=ax, label='undir', bw_method=bw)\n",
    "ax.set_ylim(bottom=0)\n",
    "ax.set_xlim(left=-2, right=15)\n",
    "ax.set_xlabel('commute distance (km)')\n",
    "plt.legend()\n",
    "plt.show()"
   ]
  },
  {
   "cell_type": "code",
   "execution_count": 24,
   "metadata": {},
   "outputs": [
    {
     "name": "stdout",
     "output_type": "stream",
     "text": [
      "n=1073234, δ=79.33, t=19.25, p=0.0000\n"
     ]
    }
   ],
   "source": [
    "# are the average distances (m) traveled per trip significantly different?\n",
    "a = meters_dir\n",
    "b = meters_undir\n",
    "diff = a.mean() - b.mean()\n",
    "t_statistic, p_value = ttest_ind(a=a, b=b, equal_var=False, nan_policy='omit', )\n",
    "\n",
    "# convert from two-tailed to one-tailed p-value, because one-way network could never be shorter than two-way\n",
    "p_value = p_value / 2\n",
    "print('n={:}, δ={:0.2f}, t={:0.2f}, p={:0.4f}'.format(len(a), diff, t_statistic, p_value))"
   ]
  },
  {
   "cell_type": "code",
   "execution_count": 25,
   "metadata": {},
   "outputs": [
    {
     "data": {
      "text/plain": [
       "1.0123494415046594"
      ]
     },
     "execution_count": 25,
     "metadata": {},
     "output_type": "execute_result"
    }
   ],
   "source": [
    "a.mean() / b.mean()"
   ]
  },
  {
   "cell_type": "code",
   "execution_count": 26,
   "metadata": {},
   "outputs": [
    {
     "data": {
      "text/plain": [
       "count    1.073234e+06\n",
       "mean     8.505421e+01\n",
       "std      1.284830e+02\n",
       "min     -3.637979e-12\n",
       "25%      6.866000e+00\n",
       "50%      3.885900e+01\n",
       "75%      1.140960e+02\n",
       "max      2.890546e+03\n",
       "Name: network_distance_m, dtype: float64"
      ]
     },
     "execution_count": 26,
     "metadata": {},
     "output_type": "execute_result"
    }
   ],
   "source": [
    "difference = a - b\n",
    "difference.describe()"
   ]
  },
  {
   "cell_type": "code",
   "execution_count": 27,
   "metadata": {},
   "outputs": [
    {
     "data": {
      "image/png": "[encoded data removed]",
      "text/plain": [
       "<Figure size 432x288 with 1 Axes>"
      ]
     },
     "metadata": {
      "needs_background": "light"
     },
     "output_type": "display_data"
    }
   ],
   "source": [
    "ax = difference.plot.hist(bins=30, ec='w', alpha=0.8, zorder=2)\n",
    "ax.set_xlim(left=0, right=500)\n",
    "ax.set_ylim(bottom=0)\n",
    "ax.grid(True)\n",
    "ax.set_xlabel('Meters saved in trip on two-way network')\n",
    "plt.show()"
   ]
  },
  {
   "cell_type": "markdown",
   "metadata": {},
   "source": [
    "## Surplus VKT and fuel consumption\n",
    "\n",
    "#### method 1"
   ]
  },
  {
   "cell_type": "code",
   "execution_count": 28,
   "metadata": {},
   "outputs": [],
   "source": [
    "# daily km traveled in SF (trips entirely within SF only) https://www.sfcta.org/tncstoday\n",
    "daily_km = 4586630"
   ]
  },
  {
   "cell_type": "code",
   "execution_count": 29,
   "metadata": {},
   "outputs": [
    {
     "data": {
      "text/plain": [
       "55951.35095281806"
      ]
     },
     "execution_count": 29,
     "metadata": {},
     "output_type": "execute_result"
    }
   ],
   "source": [
    "# estimate surplus VKT per day\n",
    "surplus_vkt_daily = daily_km - (daily_km / (a.mean() / b.mean()))\n",
    "surplus_vkt_daily"
   ]
  },
  {
   "cell_type": "code",
   "execution_count": 30,
   "metadata": {},
   "outputs": [
    {
     "data": {
      "text/plain": [
       "20422243.097778592"
      ]
     },
     "execution_count": 30,
     "metadata": {},
     "output_type": "execute_result"
    }
   ],
   "source": [
    "# estimate surplus VKT per year\n",
    "surplus_vkt_daily * 365"
   ]
  },
  {
   "cell_type": "markdown",
   "metadata": {},
   "source": [
    "#### method 2"
   ]
  },
  {
   "cell_type": "code",
   "execution_count": 31,
   "metadata": {},
   "outputs": [],
   "source": [
    "total_daily_trips = 1133333 #how many trips begin and end in sf each day https://www.sfcta.org/tncstoday"
   ]
  },
  {
   "cell_type": "code",
   "execution_count": 32,
   "metadata": {},
   "outputs": [
    {
     "data": {
      "text/plain": [
       "89907.89283882274"
      ]
     },
     "execution_count": 32,
     "metadata": {},
     "output_type": "execute_result"
    }
   ],
   "source": [
    "# estimate surplus VKT per day\n",
    "surplus_vkt_daily = total_daily_trips * (a.mean() - b.mean()) / 1000\n",
    "surplus_vkt_daily"
   ]
  },
  {
   "cell_type": "code",
   "execution_count": 33,
   "metadata": {},
   "outputs": [
    {
     "data": {
      "text/plain": [
       "32816380.886170298"
      ]
     },
     "execution_count": 33,
     "metadata": {},
     "output_type": "execute_result"
    }
   ],
   "source": [
    "# estimate surplus VKT per year\n",
    "surplus_vkt_daily * 365"
   ]
  },
  {
   "cell_type": "markdown",
   "metadata": {},
   "source": [
    "#### fuel consumption"
   ]
  },
  {
   "cell_type": "code",
   "execution_count": 34,
   "metadata": {},
   "outputs": [
    {
     "data": {
      "text/plain": [
       "825569.330469693"
      ]
     },
     "execution_count": 34,
     "metadata": {},
     "output_type": "execute_result"
    }
   ],
   "source": [
    "# how many surplus gallons of fuel does this waste per year?\n",
    "fuel_econ = 39.75 # 23 mpg to km-p-g https://www.reuters.com/article/us-autos-emissions/u-s-vehicle-fuel-economy-rises-to-record-24-7-mpg-epa-idUSKBN1F02BX\n",
    "surplus_fuel_gallons = (surplus_vkt_daily * 365) / fuel_econ\n",
    "surplus_fuel_gallons"
   ]
  },
  {
   "cell_type": "code",
   "execution_count": 35,
   "metadata": {},
   "outputs": [
    {
     "data": {
      "text/plain": [
       "16511386.609393861"
      ]
     },
     "execution_count": 35,
     "metadata": {},
     "output_type": "execute_result"
    }
   ],
   "source": [
    "# burning a gallon of gas releases 20 lbs of CO2 https://www.fueleconomy.gov/feg/contentIncludes/co2_inc.htm\n",
    "surplus_fuel_gallons * 20"
   ]
  },
  {
   "cell_type": "markdown",
   "metadata": {},
   "source": [
    "## Save to disk"
   ]
  },
  {
   "cell_type": "code",
   "execution_count": 36,
   "metadata": {},
   "outputs": [
    {
     "data": {
      "text/html": [
       "<div>\n",
       "<style scoped>\n",
       "    .dataframe tbody tr th:only-of-type {\n",
       "        vertical-align: middle;\n",
       "    }\n",
       "\n",
       "    .dataframe tbody tr th {\n",
       "        vertical-align: top;\n",
       "    }\n",
       "\n",
       "    .dataframe thead th {\n",
       "        text-align: right;\n",
       "    }\n",
       "</style>\n",
       "<table border=\"1\" class=\"dataframe\">\n",
       "  <thead>\n",
       "    <tr style=\"text-align: right;\">\n",
       "      <th></th>\n",
       "      <th>orig</th>\n",
       "      <th>dest</th>\n",
       "      <th>network_distance_e_dir</th>\n",
       "      <th>network_distance_m_dir</th>\n",
       "      <th>network_distance_e_undir</th>\n",
       "      <th>network_distance_m_undir</th>\n",
       "    </tr>\n",
       "  </thead>\n",
       "  <tbody>\n",
       "    <tr>\n",
       "      <th>0</th>\n",
       "      <td>5458237921</td>\n",
       "      <td>65287366</td>\n",
       "      <td>69.0</td>\n",
       "      <td>9722.933</td>\n",
       "      <td>68.0</td>\n",
       "      <td>9671.223</td>\n",
       "    </tr>\n",
       "    <tr>\n",
       "      <th>1</th>\n",
       "      <td>65290236</td>\n",
       "      <td>65326070</td>\n",
       "      <td>76.0</td>\n",
       "      <td>9243.153</td>\n",
       "      <td>69.0</td>\n",
       "      <td>8951.196</td>\n",
       "    </tr>\n",
       "    <tr>\n",
       "      <th>2</th>\n",
       "      <td>65364228</td>\n",
       "      <td>65357125</td>\n",
       "      <td>inf</td>\n",
       "      <td>inf</td>\n",
       "      <td>inf</td>\n",
       "      <td>inf</td>\n",
       "    </tr>\n",
       "    <tr>\n",
       "      <th>3</th>\n",
       "      <td>65357752</td>\n",
       "      <td>65326328</td>\n",
       "      <td>69.0</td>\n",
       "      <td>8548.095</td>\n",
       "      <td>62.0</td>\n",
       "      <td>8401.690</td>\n",
       "    </tr>\n",
       "    <tr>\n",
       "      <th>4</th>\n",
       "      <td>65319886</td>\n",
       "      <td>65327388</td>\n",
       "      <td>51.0</td>\n",
       "      <td>8417.372</td>\n",
       "      <td>49.0</td>\n",
       "      <td>8213.100</td>\n",
       "    </tr>\n",
       "  </tbody>\n",
       "</table>\n",
       "</div>"
      ],
      "text/plain": [
       "         orig      dest  network_distance_e_dir  network_distance_m_dir  \\\n",
       "0  5458237921  65287366                    69.0                9722.933   \n",
       "1    65290236  65326070                    76.0                9243.153   \n",
       "2    65364228  65357125                     inf                     inf   \n",
       "3    65357752  65326328                    69.0                8548.095   \n",
       "4    65319886  65327388                    51.0                8417.372   \n",
       "\n",
       "   network_distance_e_undir  network_distance_m_undir  \n",
       "0                      68.0                  9671.223  \n",
       "1                      69.0                  8951.196  \n",
       "2                       inf                       inf  \n",
       "3                      62.0                  8401.690  \n",
       "4                      49.0                  8213.100  "
      ]
     },
     "execution_count": 36,
     "metadata": {},
     "output_type": "execute_result"
    }
   ],
   "source": [
    "left = od_dir\n",
    "right = od_undir[['network_distance_e', 'network_distance_m']]\n",
    "df = pd.merge(left, right, left_index=True, right_index=True, suffixes=('_dir', '_undir'))\n",
    "df.head()"
   ]
  },
  {
   "cell_type": "code",
   "execution_count": 37,
   "metadata": {},
   "outputs": [],
   "source": [
    "# save to disk\n",
    "df.to_csv('data/od_distances-no-fwy-igraph-randomODs.csv', index=False, encoding='utf-8')"
   ]
  },
  {
   "cell_type": "code",
   "execution_count": null,
   "metadata": {},
   "outputs": [],
   "source": []
  }
 ],
 "metadata": {
  "kernelspec": {
   "display_name": "Python (ox)",
   "language": "python",
   "name": "ox"
  },
  "language_info": {
   "codemirror_mode": {
    "name": "ipython",
    "version": 3
   },
   "file_extension": ".py",
   "mimetype": "text/x-python",
   "name": "python",
   "nbconvert_exporter": "python",
   "pygments_lexer": "ipython3",
   "version": "3.7.1"
  }
 },
 "nbformat": 4,
 "nbformat_minor": 2
}
